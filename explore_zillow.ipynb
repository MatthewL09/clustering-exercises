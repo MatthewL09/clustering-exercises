{
 "cells": [
  {
   "cell_type": "code",
   "execution_count": 1,
   "id": "6e1e242d",
   "metadata": {},
   "outputs": [],
   "source": [
    "#wrangling\n",
    "import pandas as pd\n",
    "import numpy as np\n",
    "from sklearn.model_selection import train_test_split\n",
    "\n",
    "#stats\n",
    "import scipy.stats as stats\n",
    "\n",
    "#visuals\n",
    "import matplotlib.pyplot as plt\n",
    "import seaborn as sns\n",
    "from sklearn.model_selection import learning_curve\n",
    "\n",
    "import env\n",
    "import os\n",
    "import wrangle_zillow\n",
    "\n",
    "import warnings\n",
    "warnings.filterwarnings(\"ignore\")"
   ]
  },
  {
   "cell_type": "code",
   "execution_count": 2,
   "id": "5308760a",
   "metadata": {},
   "outputs": [
    {
     "name": "stdout",
     "output_type": "stream",
     "text": [
      "Using cached csv\n"
     ]
    }
   ],
   "source": [
    "df = wrangle_zillow.get_zillow_data()"
   ]
  },
  {
   "cell_type": "code",
   "execution_count": 3,
   "id": "e77ec263",
   "metadata": {
    "scrolled": true
   },
   "outputs": [
    {
     "data": {
      "text/plain": [
       "(77580, 69)"
      ]
     },
     "execution_count": 3,
     "metadata": {},
     "output_type": "execute_result"
    }
   ],
   "source": [
    "df.shape"
   ]
  },
  {
   "cell_type": "code",
   "execution_count": 4,
   "id": "86ddfd90",
   "metadata": {},
   "outputs": [],
   "source": [
    "zillow = wrangle_zillow.clean_zillow(df)"
   ]
  },
  {
   "cell_type": "code",
   "execution_count": 5,
   "id": "718982c4",
   "metadata": {},
   "outputs": [
    {
     "data": {
      "text/plain": [
       "(64838, 27)"
      ]
     },
     "execution_count": 5,
     "metadata": {},
     "output_type": "execute_result"
    }
   ],
   "source": [
    "zillow.shape"
   ]
  },
  {
   "cell_type": "code",
   "execution_count": 6,
   "id": "0665d0e7",
   "metadata": {},
   "outputs": [
    {
     "data": {
      "text/html": [
       "<div>\n",
       "<style scoped>\n",
       "    .dataframe tbody tr th:only-of-type {\n",
       "        vertical-align: middle;\n",
       "    }\n",
       "\n",
       "    .dataframe tbody tr th {\n",
       "        vertical-align: top;\n",
       "    }\n",
       "\n",
       "    .dataframe thead th {\n",
       "        text-align: right;\n",
       "    }\n",
       "</style>\n",
       "<table border=\"1\" class=\"dataframe\">\n",
       "  <thead>\n",
       "    <tr style=\"text-align: right;\">\n",
       "      <th></th>\n",
       "      <th>bathroomcnt</th>\n",
       "      <th>bedroomcnt</th>\n",
       "      <th>buildingqualitytypeid</th>\n",
       "      <th>calculatedfinishedsquarefeet</th>\n",
       "      <th>finishedsquarefeet12</th>\n",
       "      <th>fullbathcnt</th>\n",
       "      <th>latitude</th>\n",
       "      <th>longitude</th>\n",
       "      <th>lotsizesquarefeet</th>\n",
       "      <th>propertycountylandusecode</th>\n",
       "      <th>...</th>\n",
       "      <th>assessmentyear</th>\n",
       "      <th>landtaxvaluedollarcnt</th>\n",
       "      <th>taxamount</th>\n",
       "      <th>censustractandblock</th>\n",
       "      <th>logerror</th>\n",
       "      <th>transactiondate</th>\n",
       "      <th>heatingorsystemdesc</th>\n",
       "      <th>propertylandusedesc</th>\n",
       "      <th>county</th>\n",
       "      <th>age</th>\n",
       "    </tr>\n",
       "  </thead>\n",
       "  <tbody>\n",
       "    <tr>\n",
       "      <th>0</th>\n",
       "      <td>3.5</td>\n",
       "      <td>4.0</td>\n",
       "      <td>NaN</td>\n",
       "      <td>3100.0</td>\n",
       "      <td>3100.0</td>\n",
       "      <td>3.0</td>\n",
       "      <td>33634931.0</td>\n",
       "      <td>-117869207.0</td>\n",
       "      <td>4506.0</td>\n",
       "      <td>122</td>\n",
       "      <td>...</td>\n",
       "      <td>2016.0</td>\n",
       "      <td>537569.0</td>\n",
       "      <td>11013.72</td>\n",
       "      <td>6.059063e+13</td>\n",
       "      <td>0.025595</td>\n",
       "      <td>2017-01-01</td>\n",
       "      <td>None</td>\n",
       "      <td>Single Family Residential</td>\n",
       "      <td>Orange</td>\n",
       "      <td>24.0</td>\n",
       "    </tr>\n",
       "    <tr>\n",
       "      <th>1</th>\n",
       "      <td>1.0</td>\n",
       "      <td>2.0</td>\n",
       "      <td>NaN</td>\n",
       "      <td>1465.0</td>\n",
       "      <td>1465.0</td>\n",
       "      <td>1.0</td>\n",
       "      <td>34449266.0</td>\n",
       "      <td>-119281531.0</td>\n",
       "      <td>12647.0</td>\n",
       "      <td>1110</td>\n",
       "      <td>...</td>\n",
       "      <td>2016.0</td>\n",
       "      <td>376000.0</td>\n",
       "      <td>5672.48</td>\n",
       "      <td>6.111001e+13</td>\n",
       "      <td>0.055619</td>\n",
       "      <td>2017-01-01</td>\n",
       "      <td>None</td>\n",
       "      <td>Single Family Residential</td>\n",
       "      <td>Ventura</td>\n",
       "      <td>55.0</td>\n",
       "    </tr>\n",
       "    <tr>\n",
       "      <th>2</th>\n",
       "      <td>2.0</td>\n",
       "      <td>3.0</td>\n",
       "      <td>NaN</td>\n",
       "      <td>1243.0</td>\n",
       "      <td>1243.0</td>\n",
       "      <td>2.0</td>\n",
       "      <td>33886168.0</td>\n",
       "      <td>-117823170.0</td>\n",
       "      <td>8432.0</td>\n",
       "      <td>122</td>\n",
       "      <td>...</td>\n",
       "      <td>2016.0</td>\n",
       "      <td>479489.0</td>\n",
       "      <td>6488.30</td>\n",
       "      <td>6.059022e+13</td>\n",
       "      <td>0.005383</td>\n",
       "      <td>2017-01-01</td>\n",
       "      <td>None</td>\n",
       "      <td>Single Family Residential</td>\n",
       "      <td>Orange</td>\n",
       "      <td>60.0</td>\n",
       "    </tr>\n",
       "    <tr>\n",
       "      <th>3</th>\n",
       "      <td>3.0</td>\n",
       "      <td>4.0</td>\n",
       "      <td>8.0</td>\n",
       "      <td>2376.0</td>\n",
       "      <td>2376.0</td>\n",
       "      <td>3.0</td>\n",
       "      <td>34245180.0</td>\n",
       "      <td>-118240722.0</td>\n",
       "      <td>13038.0</td>\n",
       "      <td>0101</td>\n",
       "      <td>...</td>\n",
       "      <td>2016.0</td>\n",
       "      <td>36225.0</td>\n",
       "      <td>1777.51</td>\n",
       "      <td>6.037300e+13</td>\n",
       "      <td>-0.103410</td>\n",
       "      <td>2017-01-01</td>\n",
       "      <td>Central</td>\n",
       "      <td>Single Family Residential</td>\n",
       "      <td>Los_Angeles</td>\n",
       "      <td>52.0</td>\n",
       "    </tr>\n",
       "    <tr>\n",
       "      <th>4</th>\n",
       "      <td>3.0</td>\n",
       "      <td>3.0</td>\n",
       "      <td>8.0</td>\n",
       "      <td>1312.0</td>\n",
       "      <td>1312.0</td>\n",
       "      <td>3.0</td>\n",
       "      <td>34185120.0</td>\n",
       "      <td>-118414640.0</td>\n",
       "      <td>278581.0</td>\n",
       "      <td>010C</td>\n",
       "      <td>...</td>\n",
       "      <td>2016.0</td>\n",
       "      <td>45726.0</td>\n",
       "      <td>1533.89</td>\n",
       "      <td>6.037124e+13</td>\n",
       "      <td>0.006940</td>\n",
       "      <td>2017-01-01</td>\n",
       "      <td>Central</td>\n",
       "      <td>Condominium</td>\n",
       "      <td>Los_Angeles</td>\n",
       "      <td>58.0</td>\n",
       "    </tr>\n",
       "  </tbody>\n",
       "</table>\n",
       "<p>5 rows × 27 columns</p>\n",
       "</div>"
      ],
      "text/plain": [
       "   bathroomcnt  bedroomcnt  buildingqualitytypeid  \\\n",
       "0          3.5         4.0                    NaN   \n",
       "1          1.0         2.0                    NaN   \n",
       "2          2.0         3.0                    NaN   \n",
       "3          3.0         4.0                    8.0   \n",
       "4          3.0         3.0                    8.0   \n",
       "\n",
       "   calculatedfinishedsquarefeet  finishedsquarefeet12  fullbathcnt  \\\n",
       "0                        3100.0                3100.0          3.0   \n",
       "1                        1465.0                1465.0          1.0   \n",
       "2                        1243.0                1243.0          2.0   \n",
       "3                        2376.0                2376.0          3.0   \n",
       "4                        1312.0                1312.0          3.0   \n",
       "\n",
       "     latitude    longitude  lotsizesquarefeet propertycountylandusecode  ...  \\\n",
       "0  33634931.0 -117869207.0             4506.0                       122  ...   \n",
       "1  34449266.0 -119281531.0            12647.0                      1110  ...   \n",
       "2  33886168.0 -117823170.0             8432.0                       122  ...   \n",
       "3  34245180.0 -118240722.0            13038.0                      0101  ...   \n",
       "4  34185120.0 -118414640.0           278581.0                      010C  ...   \n",
       "\n",
       "   assessmentyear  landtaxvaluedollarcnt  taxamount  censustractandblock  \\\n",
       "0          2016.0               537569.0   11013.72         6.059063e+13   \n",
       "1          2016.0               376000.0    5672.48         6.111001e+13   \n",
       "2          2016.0               479489.0    6488.30         6.059022e+13   \n",
       "3          2016.0                36225.0    1777.51         6.037300e+13   \n",
       "4          2016.0                45726.0    1533.89         6.037124e+13   \n",
       "\n",
       "   logerror  transactiondate  heatingorsystemdesc        propertylandusedesc  \\\n",
       "0  0.025595       2017-01-01                 None  Single Family Residential   \n",
       "1  0.055619       2017-01-01                 None  Single Family Residential   \n",
       "2  0.005383       2017-01-01                 None  Single Family Residential   \n",
       "3 -0.103410       2017-01-01              Central  Single Family Residential   \n",
       "4  0.006940       2017-01-01              Central                Condominium   \n",
       "\n",
       "        county   age  \n",
       "0       Orange  24.0  \n",
       "1      Ventura  55.0  \n",
       "2       Orange  60.0  \n",
       "3  Los_Angeles  52.0  \n",
       "4  Los_Angeles  58.0  \n",
       "\n",
       "[5 rows x 27 columns]"
      ]
     },
     "execution_count": 6,
     "metadata": {},
     "output_type": "execute_result"
    }
   ],
   "source": [
    "zillow.head()"
   ]
  },
  {
   "cell_type": "code",
   "execution_count": 7,
   "id": "c9921460",
   "metadata": {},
   "outputs": [
    {
     "data": {
      "text/plain": [
       "(64838, 27)"
      ]
     },
     "execution_count": 7,
     "metadata": {},
     "output_type": "execute_result"
    }
   ],
   "source": [
    "zillow.shape"
   ]
  },
  {
   "cell_type": "code",
   "execution_count": 8,
   "id": "94d48c66",
   "metadata": {},
   "outputs": [
    {
     "name": "stdout",
     "output_type": "stream",
     "text": [
      "<class 'pandas.core.frame.DataFrame'>\n",
      "Int64Index: 64838 entries, 0 to 77579\n",
      "Data columns (total 27 columns):\n",
      " #   Column                        Non-Null Count  Dtype  \n",
      "---  ------                        --------------  -----  \n",
      " 0   bathroomcnt                   64838 non-null  float64\n",
      " 1   bedroomcnt                    64838 non-null  float64\n",
      " 2   buildingqualitytypeid         40278 non-null  float64\n",
      " 3   calculatedfinishedsquarefeet  64838 non-null  float64\n",
      " 4   finishedsquarefeet12          64709 non-null  float64\n",
      " 5   fullbathcnt                   64830 non-null  float64\n",
      " 6   latitude                      64838 non-null  float64\n",
      " 7   longitude                     64838 non-null  float64\n",
      " 8   lotsizesquarefeet             57174 non-null  float64\n",
      " 9   propertycountylandusecode     64838 non-null  object \n",
      " 10  regionidcity                  63622 non-null  float64\n",
      " 11  regionidcounty                64838 non-null  float64\n",
      " 12  regionidzip                   64805 non-null  float64\n",
      " 13  roomcnt                       64838 non-null  float64\n",
      " 14  unitcnt                       64838 non-null  float64\n",
      " 15  structuretaxvaluedollarcnt    64795 non-null  float64\n",
      " 16  taxvaluedollarcnt             64838 non-null  float64\n",
      " 17  assessmentyear                64838 non-null  float64\n",
      " 18  landtaxvaluedollarcnt         64838 non-null  float64\n",
      " 19  taxamount                     64838 non-null  float64\n",
      " 20  censustractandblock           64664 non-null  float64\n",
      " 21  logerror                      64838 non-null  float64\n",
      " 22  transactiondate               64838 non-null  object \n",
      " 23  heatingorsystemdesc           64838 non-null  object \n",
      " 24  propertylandusedesc           64838 non-null  object \n",
      " 25  county                        64838 non-null  object \n",
      " 26  age                           64810 non-null  float64\n",
      "dtypes: float64(22), object(5)\n",
      "memory usage: 13.9+ MB\n"
     ]
    }
   ],
   "source": [
    "zillow.info()"
   ]
  },
  {
   "cell_type": "code",
   "execution_count": 9,
   "id": "46e4d9fc",
   "metadata": {},
   "outputs": [],
   "source": [
    "# split the data into train, validate, test\n",
    "train, validate, test = wrangle_zillow.split_data(zillow)"
   ]
  },
  {
   "cell_type": "code",
   "execution_count": 10,
   "id": "214f5315",
   "metadata": {},
   "outputs": [
    {
     "data": {
      "text/plain": [
       "((36309, 27), (15561, 27), (12968, 27))"
      ]
     },
     "execution_count": 10,
     "metadata": {},
     "output_type": "execute_result"
    }
   ],
   "source": [
    "train.shape, validate.shape, test.shape"
   ]
  },
  {
   "cell_type": "code",
   "execution_count": 11,
   "id": "88865f57",
   "metadata": {},
   "outputs": [],
   "source": [
    "# Filling nulls with mean/median from train data\n",
    "train, validate, test = wrangle_zillow.handle_nulls(train, validate, test)"
   ]
  },
  {
   "cell_type": "code",
   "execution_count": 12,
   "id": "27eafe58",
   "metadata": {},
   "outputs": [
    {
     "data": {
      "text/plain": [
       "bathroomcnt                      0\n",
       "bedroomcnt                       0\n",
       "buildingqualitytypeid            0\n",
       "calculatedfinishedsquarefeet     0\n",
       "finishedsquarefeet12             0\n",
       "fullbathcnt                      0\n",
       "latitude                         0\n",
       "longitude                        0\n",
       "lotsizesquarefeet                0\n",
       "propertycountylandusecode        0\n",
       "regionidcity                     0\n",
       "regionidcounty                   0\n",
       "regionidzip                      0\n",
       "roomcnt                          0\n",
       "unitcnt                          0\n",
       "structuretaxvaluedollarcnt       0\n",
       "taxvaluedollarcnt                0\n",
       "assessmentyear                   0\n",
       "landtaxvaluedollarcnt            0\n",
       "taxamount                        0\n",
       "censustractandblock              0\n",
       "logerror                         0\n",
       "transactiondate                  0\n",
       "heatingorsystemdesc              0\n",
       "propertylandusedesc              0\n",
       "county                           0\n",
       "age                             17\n",
       "dtype: int64"
      ]
     },
     "execution_count": 12,
     "metadata": {},
     "output_type": "execute_result"
    }
   ],
   "source": [
    "train.isnull().sum()"
   ]
  },
  {
   "cell_type": "code",
   "execution_count": 13,
   "id": "87b64706",
   "metadata": {},
   "outputs": [
    {
     "data": {
      "image/png": "[encoded data removed]",
      "text/plain": [
       "<Figure size 1728x720 with 25 Axes>"
      ]
     },
     "metadata": {
      "needs_background": "light"
     },
     "output_type": "display_data"
    }
   ],
   "source": [
    "train.hist(figsize = (24,10), bins = 20)\n",
    "plt.tight_layout()"
   ]
  },
  {
   "cell_type": "markdown",
   "id": "facea903",
   "metadata": {},
   "source": [
    "### Does logerror differ between fips"
   ]
  },
  {
   "cell_type": "code",
   "execution_count": 16,
   "id": "82ddfeb3",
   "metadata": {
    "scrolled": false
   },
   "outputs": [
    {
     "data": {
      "text/plain": [
       "Los_Angeles    22802\n",
       "Orange         10363\n",
       "Ventura         3144\n",
       "Name: county, dtype: int64"
      ]
     },
     "execution_count": 16,
     "metadata": {},
     "output_type": "execute_result"
    }
   ],
   "source": [
    "train.county.value_counts()"
   ]
  },
  {
   "cell_type": "code",
   "execution_count": 28,
   "id": "b9e8b268",
   "metadata": {},
   "outputs": [
    {
     "data": {
      "text/plain": [
       "[<matplotlib.lines.Line2D at 0x7fa621fe53a0>]"
      ]
     },
     "execution_count": 28,
     "metadata": {},
     "output_type": "execute_result"
    },
    {
     "data": {
      "image/png": "[encoded data removed]",
      "text/plain": [
       "<Figure size 432x288 with 1 Axes>"
      ]
     },
     "metadata": {
      "needs_background": "light"
     },
     "output_type": "display_data"
    }
   ],
   "source": [
    "plt.plot(train.groupby(by='county').logerror.mean())"
   ]
  },
  {
   "cell_type": "code",
   "execution_count": 17,
   "id": "8a0838bc",
   "metadata": {
    "scrolled": true
   },
   "outputs": [
    {
     "data": {
      "text/plain": [
       "<AxesSubplot:>"
      ]
     },
     "execution_count": 17,
     "metadata": {},
     "output_type": "execute_result"
    },
    {
     "data": {
      "image/png": "[encoded data removed]",
      "text/plain": [
       "<Figure size 432x288 with 1 Axes>"
      ]
     },
     "metadata": {
      "needs_background": "light"
     },
     "output_type": "display_data"
    }
   ],
   "source": [
    "# plotting histogram of the log error in different fips code\n",
    "\n",
    "ax = train[train.county == 'Los_Angeles'].logerror.hist(color = 'red')\n",
    "train[train.county == 'Orange'].logerror.hist(ax = ax, color = 'blue')\n",
    "train[train.county == 'Ventura'].logerror.hist(ax = ax, color = 'green')"
   ]
  },
  {
   "cell_type": "code",
   "execution_count": 18,
   "id": "32ddd9d2",
   "metadata": {},
   "outputs": [
    {
     "data": {
      "text/plain": [
       "<AxesSubplot:xlabel='county', ylabel='logerror'>"
      ]
     },
     "execution_count": 18,
     "metadata": {},
     "output_type": "execute_result"
    },
    {
     "data": {
      "image/png": "[encoded data removed]",
      "text/plain": [
       "<Figure size 432x288 with 1 Axes>"
      ]
     },
     "metadata": {
      "needs_background": "light"
     },
     "output_type": "display_data"
    }
   ],
   "source": [
    "sns.boxplot(train.county, train.logerror)"
   ]
  },
  {
   "cell_type": "code",
   "execution_count": 27,
   "id": "fa5401e6",
   "metadata": {},
   "outputs": [
    {
     "data": {
      "text/plain": [
       "0.006026351023219386"
      ]
     },
     "execution_count": 27,
     "metadata": {},
     "output_type": "execute_result"
    }
   ],
   "source": [
    "train.logerror.mean()"
   ]
  },
  {
   "cell_type": "code",
   "execution_count": 19,
   "id": "bc5559d5",
   "metadata": {},
   "outputs": [
    {
     "data": {
      "text/plain": [
       "county\n",
       "Los_Angeles    0.004948\n",
       "Orange         0.007553\n",
       "Ventura        0.008815\n",
       "Name: logerror, dtype: float64"
      ]
     },
     "execution_count": 19,
     "metadata": {},
     "output_type": "execute_result"
    }
   ],
   "source": [
    "train.groupby(by='county').logerror.mean()"
   ]
  },
  {
   "cell_type": "code",
   "execution_count": 20,
   "id": "a20972fd",
   "metadata": {},
   "outputs": [
    {
     "data": {
      "text/html": [
       "<div>\n",
       "<style scoped>\n",
       "    .dataframe tbody tr th:only-of-type {\n",
       "        vertical-align: middle;\n",
       "    }\n",
       "\n",
       "    .dataframe tbody tr th {\n",
       "        vertical-align: top;\n",
       "    }\n",
       "\n",
       "    .dataframe thead th {\n",
       "        text-align: right;\n",
       "    }\n",
       "</style>\n",
       "<table border=\"1\" class=\"dataframe\">\n",
       "  <thead>\n",
       "    <tr style=\"text-align: right;\">\n",
       "      <th></th>\n",
       "      <th>count</th>\n",
       "      <th>mean</th>\n",
       "      <th>std</th>\n",
       "      <th>min</th>\n",
       "      <th>25%</th>\n",
       "      <th>50%</th>\n",
       "      <th>75%</th>\n",
       "      <th>max</th>\n",
       "    </tr>\n",
       "    <tr>\n",
       "      <th>county</th>\n",
       "      <th></th>\n",
       "      <th></th>\n",
       "      <th></th>\n",
       "      <th></th>\n",
       "      <th></th>\n",
       "      <th></th>\n",
       "      <th></th>\n",
       "      <th></th>\n",
       "    </tr>\n",
       "  </thead>\n",
       "  <tbody>\n",
       "    <tr>\n",
       "      <th>Los_Angeles</th>\n",
       "      <td>22802.0</td>\n",
       "      <td>0.004948</td>\n",
       "      <td>0.062256</td>\n",
       "      <td>-0.204664</td>\n",
       "      <td>-0.026066</td>\n",
       "      <td>0.005349</td>\n",
       "      <td>0.034278</td>\n",
       "      <td>0.218255</td>\n",
       "    </tr>\n",
       "    <tr>\n",
       "      <th>Orange</th>\n",
       "      <td>10363.0</td>\n",
       "      <td>0.007553</td>\n",
       "      <td>0.052725</td>\n",
       "      <td>-0.204762</td>\n",
       "      <td>-0.018292</td>\n",
       "      <td>0.005361</td>\n",
       "      <td>0.030564</td>\n",
       "      <td>0.217817</td>\n",
       "    </tr>\n",
       "    <tr>\n",
       "      <th>Ventura</th>\n",
       "      <td>3144.0</td>\n",
       "      <td>0.008815</td>\n",
       "      <td>0.056588</td>\n",
       "      <td>-0.203798</td>\n",
       "      <td>-0.018877</td>\n",
       "      <td>0.005491</td>\n",
       "      <td>0.031985</td>\n",
       "      <td>0.217128</td>\n",
       "    </tr>\n",
       "  </tbody>\n",
       "</table>\n",
       "</div>"
      ],
      "text/plain": [
       "               count      mean       std       min       25%       50%  \\\n",
       "county                                                                   \n",
       "Los_Angeles  22802.0  0.004948  0.062256 -0.204664 -0.026066  0.005349   \n",
       "Orange       10363.0  0.007553  0.052725 -0.204762 -0.018292  0.005361   \n",
       "Ventura       3144.0  0.008815  0.056588 -0.203798 -0.018877  0.005491   \n",
       "\n",
       "                  75%       max  \n",
       "county                           \n",
       "Los_Angeles  0.034278  0.218255  \n",
       "Orange       0.030564  0.217817  \n",
       "Ventura      0.031985  0.217128  "
      ]
     },
     "execution_count": 20,
     "metadata": {},
     "output_type": "execute_result"
    }
   ],
   "source": [
    "# data is .groupby on fips to provide some descriptive stats on logerror\n",
    "\n",
    "train.groupby('county').logerror.describe()"
   ]
  },
  {
   "cell_type": "markdown",
   "id": "31bd261c",
   "metadata": {},
   "source": [
    "H0: There is no change in logerror between counties"
   ]
  },
  {
   "cell_type": "markdown",
   "id": "aa417325",
   "metadata": {},
   "source": [
    "#### Takeaway:\n",
    "     - the logerror seems even distributed between\n",
    "     - there seems to be a much higher volume of fips code 6037"
   ]
  },
  {
   "cell_type": "markdown",
   "id": "5571b8f8",
   "metadata": {},
   "source": [
    "### Does age affect the logerror"
   ]
  },
  {
   "cell_type": "code",
   "execution_count": 21,
   "id": "6185bd6a",
   "metadata": {},
   "outputs": [
    {
     "data": {
      "text/plain": [
       "count    36292.000000\n",
       "mean        52.494627\n",
       "std         22.637857\n",
       "min          7.000000\n",
       "25%         35.000000\n",
       "50%         51.000000\n",
       "75%         68.000000\n",
       "max        137.000000\n",
       "Name: age, dtype: float64"
      ]
     },
     "execution_count": 21,
     "metadata": {},
     "output_type": "execute_result"
    }
   ],
   "source": [
    "train.age.describe()"
   ]
  },
  {
   "cell_type": "code",
   "execution_count": 22,
   "id": "c2838447",
   "metadata": {},
   "outputs": [
    {
     "data": {
      "text/html": [
       "<div>\n",
       "<style scoped>\n",
       "    .dataframe tbody tr th:only-of-type {\n",
       "        vertical-align: middle;\n",
       "    }\n",
       "\n",
       "    .dataframe tbody tr th {\n",
       "        vertical-align: top;\n",
       "    }\n",
       "\n",
       "    .dataframe thead th {\n",
       "        text-align: right;\n",
       "    }\n",
       "</style>\n",
       "<table border=\"1\" class=\"dataframe\">\n",
       "  <thead>\n",
       "    <tr style=\"text-align: right;\">\n",
       "      <th></th>\n",
       "      <th>bathroomcnt</th>\n",
       "      <th>bedroomcnt</th>\n",
       "      <th>buildingqualitytypeid</th>\n",
       "      <th>calculatedfinishedsquarefeet</th>\n",
       "      <th>finishedsquarefeet12</th>\n",
       "      <th>fullbathcnt</th>\n",
       "      <th>latitude</th>\n",
       "      <th>longitude</th>\n",
       "      <th>lotsizesquarefeet</th>\n",
       "      <th>propertycountylandusecode</th>\n",
       "      <th>...</th>\n",
       "      <th>landtaxvaluedollarcnt</th>\n",
       "      <th>taxamount</th>\n",
       "      <th>censustractandblock</th>\n",
       "      <th>logerror</th>\n",
       "      <th>transactiondate</th>\n",
       "      <th>heatingorsystemdesc</th>\n",
       "      <th>propertylandusedesc</th>\n",
       "      <th>county</th>\n",
       "      <th>age</th>\n",
       "      <th>age_bin</th>\n",
       "    </tr>\n",
       "  </thead>\n",
       "  <tbody>\n",
       "    <tr>\n",
       "      <th>16119</th>\n",
       "      <td>2.0</td>\n",
       "      <td>2.0</td>\n",
       "      <td>4.0</td>\n",
       "      <td>1490.0</td>\n",
       "      <td>1490.0</td>\n",
       "      <td>2.0</td>\n",
       "      <td>34079307.0</td>\n",
       "      <td>-117941998.0</td>\n",
       "      <td>6679.0</td>\n",
       "      <td>0100</td>\n",
       "      <td>...</td>\n",
       "      <td>170213.0</td>\n",
       "      <td>3069.54</td>\n",
       "      <td>6.037405e+13</td>\n",
       "      <td>-0.024048</td>\n",
       "      <td>2017-03-10</td>\n",
       "      <td>Floor/Wall</td>\n",
       "      <td>Single Family Residential</td>\n",
       "      <td>Los_Angeles</td>\n",
       "      <td>56.0</td>\n",
       "      <td>(50, 70]</td>\n",
       "    </tr>\n",
       "    <tr>\n",
       "      <th>53116</th>\n",
       "      <td>2.5</td>\n",
       "      <td>3.0</td>\n",
       "      <td>8.0</td>\n",
       "      <td>1780.0</td>\n",
       "      <td>1780.0</td>\n",
       "      <td>2.0</td>\n",
       "      <td>33811109.0</td>\n",
       "      <td>-118053795.0</td>\n",
       "      <td>6175.0</td>\n",
       "      <td>122</td>\n",
       "      <td>...</td>\n",
       "      <td>222844.0</td>\n",
       "      <td>8205.20</td>\n",
       "      <td>6.059110e+13</td>\n",
       "      <td>-0.007992</td>\n",
       "      <td>2017-06-30</td>\n",
       "      <td>None</td>\n",
       "      <td>Single Family Residential</td>\n",
       "      <td>Orange</td>\n",
       "      <td>57.0</td>\n",
       "      <td>(50, 70]</td>\n",
       "    </tr>\n",
       "    <tr>\n",
       "      <th>41890</th>\n",
       "      <td>2.0</td>\n",
       "      <td>2.0</td>\n",
       "      <td>8.0</td>\n",
       "      <td>1257.0</td>\n",
       "      <td>1257.0</td>\n",
       "      <td>2.0</td>\n",
       "      <td>33609900.0</td>\n",
       "      <td>-117751000.0</td>\n",
       "      <td>7210.0</td>\n",
       "      <td>34</td>\n",
       "      <td>...</td>\n",
       "      <td>122215.0</td>\n",
       "      <td>2345.98</td>\n",
       "      <td>6.059063e+13</td>\n",
       "      <td>-0.064180</td>\n",
       "      <td>2017-05-31</td>\n",
       "      <td>Yes</td>\n",
       "      <td>Condominium</td>\n",
       "      <td>Orange</td>\n",
       "      <td>47.0</td>\n",
       "      <td>(30, 50]</td>\n",
       "    </tr>\n",
       "    <tr>\n",
       "      <th>65780</th>\n",
       "      <td>2.0</td>\n",
       "      <td>6.0</td>\n",
       "      <td>8.0</td>\n",
       "      <td>3585.0</td>\n",
       "      <td>3585.0</td>\n",
       "      <td>2.0</td>\n",
       "      <td>33956179.0</td>\n",
       "      <td>-117960799.0</td>\n",
       "      <td>44097.0</td>\n",
       "      <td>0100</td>\n",
       "      <td>...</td>\n",
       "      <td>272599.0</td>\n",
       "      <td>7642.08</td>\n",
       "      <td>6.037500e+13</td>\n",
       "      <td>-0.000868</td>\n",
       "      <td>2017-08-11</td>\n",
       "      <td>Floor/Wall</td>\n",
       "      <td>Single Family Residential</td>\n",
       "      <td>Los_Angeles</td>\n",
       "      <td>66.0</td>\n",
       "      <td>(50, 70]</td>\n",
       "    </tr>\n",
       "    <tr>\n",
       "      <th>58799</th>\n",
       "      <td>2.0</td>\n",
       "      <td>2.0</td>\n",
       "      <td>8.0</td>\n",
       "      <td>1230.0</td>\n",
       "      <td>1230.0</td>\n",
       "      <td>2.0</td>\n",
       "      <td>34014495.0</td>\n",
       "      <td>-118408105.0</td>\n",
       "      <td>7210.0</td>\n",
       "      <td>010E</td>\n",
       "      <td>...</td>\n",
       "      <td>445279.0</td>\n",
       "      <td>7357.13</td>\n",
       "      <td>6.037703e+13</td>\n",
       "      <td>-0.153472</td>\n",
       "      <td>2017-07-19</td>\n",
       "      <td>Central</td>\n",
       "      <td>Condominium</td>\n",
       "      <td>Los_Angeles</td>\n",
       "      <td>33.0</td>\n",
       "      <td>(30, 50]</td>\n",
       "    </tr>\n",
       "  </tbody>\n",
       "</table>\n",
       "<p>5 rows × 28 columns</p>\n",
       "</div>"
      ],
      "text/plain": [
       "       bathroomcnt  bedroomcnt  buildingqualitytypeid  \\\n",
       "16119          2.0         2.0                    4.0   \n",
       "53116          2.5         3.0                    8.0   \n",
       "41890          2.0         2.0                    8.0   \n",
       "65780          2.0         6.0                    8.0   \n",
       "58799          2.0         2.0                    8.0   \n",
       "\n",
       "       calculatedfinishedsquarefeet  finishedsquarefeet12  fullbathcnt  \\\n",
       "16119                        1490.0                1490.0          2.0   \n",
       "53116                        1780.0                1780.0          2.0   \n",
       "41890                        1257.0                1257.0          2.0   \n",
       "65780                        3585.0                3585.0          2.0   \n",
       "58799                        1230.0                1230.0          2.0   \n",
       "\n",
       "         latitude    longitude  lotsizesquarefeet propertycountylandusecode  \\\n",
       "16119  34079307.0 -117941998.0             6679.0                      0100   \n",
       "53116  33811109.0 -118053795.0             6175.0                       122   \n",
       "41890  33609900.0 -117751000.0             7210.0                        34   \n",
       "65780  33956179.0 -117960799.0            44097.0                      0100   \n",
       "58799  34014495.0 -118408105.0             7210.0                      010E   \n",
       "\n",
       "       ...  landtaxvaluedollarcnt  taxamount  censustractandblock  logerror  \\\n",
       "16119  ...               170213.0    3069.54         6.037405e+13 -0.024048   \n",
       "53116  ...               222844.0    8205.20         6.059110e+13 -0.007992   \n",
       "41890  ...               122215.0    2345.98         6.059063e+13 -0.064180   \n",
       "65780  ...               272599.0    7642.08         6.037500e+13 -0.000868   \n",
       "58799  ...               445279.0    7357.13         6.037703e+13 -0.153472   \n",
       "\n",
       "       transactiondate  heatingorsystemdesc        propertylandusedesc  \\\n",
       "16119       2017-03-10           Floor/Wall  Single Family Residential   \n",
       "53116       2017-06-30                 None  Single Family Residential   \n",
       "41890       2017-05-31                  Yes                Condominium   \n",
       "65780       2017-08-11           Floor/Wall  Single Family Residential   \n",
       "58799       2017-07-19              Central                Condominium   \n",
       "\n",
       "            county   age   age_bin  \n",
       "16119  Los_Angeles  56.0  (50, 70]  \n",
       "53116       Orange  57.0  (50, 70]  \n",
       "41890       Orange  47.0  (30, 50]  \n",
       "65780  Los_Angeles  66.0  (50, 70]  \n",
       "58799  Los_Angeles  33.0  (30, 50]  \n",
       "\n",
       "[5 rows x 28 columns]"
      ]
     },
     "execution_count": 22,
     "metadata": {},
     "output_type": "execute_result"
    }
   ],
   "source": [
    "train['age_bin'] = pd.cut(train.age, [0, 30, 50, 70, 137])\n",
    "train.head()"
   ]
  },
  {
   "cell_type": "code",
   "execution_count": 29,
   "id": "a2975726",
   "metadata": {},
   "outputs": [
    {
     "data": {
      "text/plain": [
       "[<matplotlib.lines.Line2D at 0x7fa622adf490>]"
      ]
     },
     "execution_count": 29,
     "metadata": {},
     "output_type": "execute_result"
    },
    {
     "data": {
      "image/png": "[encoded data removed]",
      "text/plain": [
       "<Figure size 432x288 with 1 Axes>"
      ]
     },
     "metadata": {
      "needs_background": "light"
     },
     "output_type": "display_data"
    }
   ],
   "source": [
    "plt.plot(train.groupby(by='age_bin').logerror.mean())"
   ]
  },
  {
   "cell_type": "code",
   "execution_count": 23,
   "id": "7575081c",
   "metadata": {
    "scrolled": true
   },
   "outputs": [
    {
     "data": {
      "image/png": "[encoded data removed]",
      "text/plain": [
       "<Figure size 432x288 with 1 Axes>"
      ]
     },
     "metadata": {
      "needs_background": "light"
     },
     "output_type": "display_data"
    }
   ],
   "source": [
    "sns.boxplot(train.age_bin, train.logerror)\n",
    "plt.show()"
   ]
  },
  {
   "cell_type": "code",
   "execution_count": 26,
   "id": "80ef5c41",
   "metadata": {},
   "outputs": [
    {
     "data": {
      "text/html": [
       "<div>\n",
       "<style scoped>\n",
       "    .dataframe tbody tr th:only-of-type {\n",
       "        vertical-align: middle;\n",
       "    }\n",
       "\n",
       "    .dataframe tbody tr th {\n",
       "        vertical-align: top;\n",
       "    }\n",
       "\n",
       "    .dataframe thead th {\n",
       "        text-align: right;\n",
       "    }\n",
       "</style>\n",
       "<table border=\"1\" class=\"dataframe\">\n",
       "  <thead>\n",
       "    <tr style=\"text-align: right;\">\n",
       "      <th></th>\n",
       "      <th>count</th>\n",
       "      <th>mean</th>\n",
       "      <th>std</th>\n",
       "      <th>min</th>\n",
       "      <th>25%</th>\n",
       "      <th>50%</th>\n",
       "      <th>75%</th>\n",
       "      <th>max</th>\n",
       "    </tr>\n",
       "    <tr>\n",
       "      <th>age_bin</th>\n",
       "      <th></th>\n",
       "      <th></th>\n",
       "      <th></th>\n",
       "      <th></th>\n",
       "      <th></th>\n",
       "      <th></th>\n",
       "      <th></th>\n",
       "      <th></th>\n",
       "    </tr>\n",
       "  </thead>\n",
       "  <tbody>\n",
       "    <tr>\n",
       "      <th>(0, 30]</th>\n",
       "      <td>6109.0</td>\n",
       "      <td>0.008278</td>\n",
       "      <td>0.048924</td>\n",
       "      <td>-0.204022</td>\n",
       "      <td>-0.015448</td>\n",
       "      <td>0.006779</td>\n",
       "      <td>0.029332</td>\n",
       "      <td>0.217276</td>\n",
       "    </tr>\n",
       "    <tr>\n",
       "      <th>(30, 50]</th>\n",
       "      <td>11588.0</td>\n",
       "      <td>0.006995</td>\n",
       "      <td>0.054442</td>\n",
       "      <td>-0.203798</td>\n",
       "      <td>-0.019470</td>\n",
       "      <td>0.005838</td>\n",
       "      <td>0.032193</td>\n",
       "      <td>0.218135</td>\n",
       "    </tr>\n",
       "    <tr>\n",
       "      <th>(50, 70]</th>\n",
       "      <td>11294.0</td>\n",
       "      <td>0.006882</td>\n",
       "      <td>0.060021</td>\n",
       "      <td>-0.204664</td>\n",
       "      <td>-0.023910</td>\n",
       "      <td>0.004851</td>\n",
       "      <td>0.034078</td>\n",
       "      <td>0.218167</td>\n",
       "    </tr>\n",
       "    <tr>\n",
       "      <th>(70, 137]</th>\n",
       "      <td>7301.0</td>\n",
       "      <td>0.001417</td>\n",
       "      <td>0.071486</td>\n",
       "      <td>-0.204762</td>\n",
       "      <td>-0.036546</td>\n",
       "      <td>0.003388</td>\n",
       "      <td>0.037582</td>\n",
       "      <td>0.218255</td>\n",
       "    </tr>\n",
       "  </tbody>\n",
       "</table>\n",
       "</div>"
      ],
      "text/plain": [
       "             count      mean       std       min       25%       50%  \\\n",
       "age_bin                                                                \n",
       "(0, 30]     6109.0  0.008278  0.048924 -0.204022 -0.015448  0.006779   \n",
       "(30, 50]   11588.0  0.006995  0.054442 -0.203798 -0.019470  0.005838   \n",
       "(50, 70]   11294.0  0.006882  0.060021 -0.204664 -0.023910  0.004851   \n",
       "(70, 137]   7301.0  0.001417  0.071486 -0.204762 -0.036546  0.003388   \n",
       "\n",
       "                75%       max  \n",
       "age_bin                        \n",
       "(0, 30]    0.029332  0.217276  \n",
       "(30, 50]   0.032193  0.218135  \n",
       "(50, 70]   0.034078  0.218167  \n",
       "(70, 137]  0.037582  0.218255  "
      ]
     },
     "execution_count": 26,
     "metadata": {},
     "output_type": "execute_result"
    }
   ],
   "source": [
    "train.groupby('age_bin').logerror.describe()"
   ]
  },
  {
   "cell_type": "markdown",
   "id": "07792b08",
   "metadata": {},
   "source": [
    "### Are there zipcodes where the logerror is higher or lower than the average logerror?"
   ]
  },
  {
   "cell_type": "code",
   "execution_count": 24,
   "id": "d84d53f8",
   "metadata": {},
   "outputs": [
    {
     "data": {
      "text/plain": [
       "0.006026351023219386"
      ]
     },
     "execution_count": 24,
     "metadata": {},
     "output_type": "execute_result"
    }
   ],
   "source": [
    "train.logerror.mean()"
   ]
  },
  {
   "cell_type": "code",
   "execution_count": 25,
   "id": "91838a33",
   "metadata": {
    "scrolled": true
   },
   "outputs": [
    {
     "data": {
      "text/html": [
       "<div>\n",
       "<style scoped>\n",
       "    .dataframe tbody tr th:only-of-type {\n",
       "        vertical-align: middle;\n",
       "    }\n",
       "\n",
       "    .dataframe tbody tr th {\n",
       "        vertical-align: top;\n",
       "    }\n",
       "\n",
       "    .dataframe thead th {\n",
       "        text-align: right;\n",
       "    }\n",
       "</style>\n",
       "<table border=\"1\" class=\"dataframe\">\n",
       "  <thead>\n",
       "    <tr style=\"text-align: right;\">\n",
       "      <th></th>\n",
       "      <th>count</th>\n",
       "      <th>mean</th>\n",
       "      <th>std</th>\n",
       "      <th>min</th>\n",
       "      <th>25%</th>\n",
       "      <th>50%</th>\n",
       "      <th>75%</th>\n",
       "      <th>max</th>\n",
       "    </tr>\n",
       "    <tr>\n",
       "      <th>regionidzip</th>\n",
       "      <th></th>\n",
       "      <th></th>\n",
       "      <th></th>\n",
       "      <th></th>\n",
       "      <th></th>\n",
       "      <th></th>\n",
       "      <th></th>\n",
       "      <th></th>\n",
       "    </tr>\n",
       "  </thead>\n",
       "  <tbody>\n",
       "    <tr>\n",
       "      <th>95982.0</th>\n",
       "      <td>37.0</td>\n",
       "      <td>-0.005814</td>\n",
       "      <td>0.082613</td>\n",
       "      <td>-0.169431</td>\n",
       "      <td>-0.053621</td>\n",
       "      <td>-0.019403</td>\n",
       "      <td>0.040157</td>\n",
       "      <td>0.214760</td>\n",
       "    </tr>\n",
       "    <tr>\n",
       "      <th>95983.0</th>\n",
       "      <td>79.0</td>\n",
       "      <td>-0.010500</td>\n",
       "      <td>0.071961</td>\n",
       "      <td>-0.200561</td>\n",
       "      <td>-0.060799</td>\n",
       "      <td>-0.001750</td>\n",
       "      <td>0.033346</td>\n",
       "      <td>0.197541</td>\n",
       "    </tr>\n",
       "    <tr>\n",
       "      <th>95984.0</th>\n",
       "      <td>54.0</td>\n",
       "      <td>-0.011440</td>\n",
       "      <td>0.063032</td>\n",
       "      <td>-0.173852</td>\n",
       "      <td>-0.046003</td>\n",
       "      <td>-0.008430</td>\n",
       "      <td>0.027118</td>\n",
       "      <td>0.185490</td>\n",
       "    </tr>\n",
       "    <tr>\n",
       "      <th>95985.0</th>\n",
       "      <td>67.0</td>\n",
       "      <td>0.013336</td>\n",
       "      <td>0.077830</td>\n",
       "      <td>-0.185503</td>\n",
       "      <td>-0.019272</td>\n",
       "      <td>0.019733</td>\n",
       "      <td>0.057829</td>\n",
       "      <td>0.213379</td>\n",
       "    </tr>\n",
       "    <tr>\n",
       "      <th>95986.0</th>\n",
       "      <td>46.0</td>\n",
       "      <td>0.024664</td>\n",
       "      <td>0.071392</td>\n",
       "      <td>-0.103545</td>\n",
       "      <td>-0.022191</td>\n",
       "      <td>0.023172</td>\n",
       "      <td>0.045187</td>\n",
       "      <td>0.204836</td>\n",
       "    </tr>\n",
       "    <tr>\n",
       "      <th>...</th>\n",
       "      <td>...</td>\n",
       "      <td>...</td>\n",
       "      <td>...</td>\n",
       "      <td>...</td>\n",
       "      <td>...</td>\n",
       "      <td>...</td>\n",
       "      <td>...</td>\n",
       "      <td>...</td>\n",
       "    </tr>\n",
       "    <tr>\n",
       "      <th>97329.0</th>\n",
       "      <td>298.0</td>\n",
       "      <td>0.006955</td>\n",
       "      <td>0.048687</td>\n",
       "      <td>-0.156101</td>\n",
       "      <td>-0.017266</td>\n",
       "      <td>0.007946</td>\n",
       "      <td>0.025874</td>\n",
       "      <td>0.186905</td>\n",
       "    </tr>\n",
       "    <tr>\n",
       "      <th>97330.0</th>\n",
       "      <td>194.0</td>\n",
       "      <td>-0.006275</td>\n",
       "      <td>0.047651</td>\n",
       "      <td>-0.144365</td>\n",
       "      <td>-0.033480</td>\n",
       "      <td>-0.006703</td>\n",
       "      <td>0.015107</td>\n",
       "      <td>0.144299</td>\n",
       "    </tr>\n",
       "    <tr>\n",
       "      <th>97331.0</th>\n",
       "      <td>7.0</td>\n",
       "      <td>0.017279</td>\n",
       "      <td>0.138709</td>\n",
       "      <td>-0.166361</td>\n",
       "      <td>-0.095967</td>\n",
       "      <td>0.048324</td>\n",
       "      <td>0.127861</td>\n",
       "      <td>0.175201</td>\n",
       "    </tr>\n",
       "    <tr>\n",
       "      <th>97344.0</th>\n",
       "      <td>26.0</td>\n",
       "      <td>0.009182</td>\n",
       "      <td>0.083530</td>\n",
       "      <td>-0.199432</td>\n",
       "      <td>-0.029875</td>\n",
       "      <td>0.009202</td>\n",
       "      <td>0.076178</td>\n",
       "      <td>0.171279</td>\n",
       "    </tr>\n",
       "    <tr>\n",
       "      <th>399675.0</th>\n",
       "      <td>5.0</td>\n",
       "      <td>-0.014239</td>\n",
       "      <td>0.067017</td>\n",
       "      <td>-0.126013</td>\n",
       "      <td>-0.014332</td>\n",
       "      <td>-0.002223</td>\n",
       "      <td>0.022602</td>\n",
       "      <td>0.048769</td>\n",
       "    </tr>\n",
       "  </tbody>\n",
       "</table>\n",
       "<p>385 rows × 8 columns</p>\n",
       "</div>"
      ],
      "text/plain": [
       "             count      mean       std       min       25%       50%  \\\n",
       "regionidzip                                                            \n",
       "95982.0       37.0 -0.005814  0.082613 -0.169431 -0.053621 -0.019403   \n",
       "95983.0       79.0 -0.010500  0.071961 -0.200561 -0.060799 -0.001750   \n",
       "95984.0       54.0 -0.011440  0.063032 -0.173852 -0.046003 -0.008430   \n",
       "95985.0       67.0  0.013336  0.077830 -0.185503 -0.019272  0.019733   \n",
       "95986.0       46.0  0.024664  0.071392 -0.103545 -0.022191  0.023172   \n",
       "...            ...       ...       ...       ...       ...       ...   \n",
       "97329.0      298.0  0.006955  0.048687 -0.156101 -0.017266  0.007946   \n",
       "97330.0      194.0 -0.006275  0.047651 -0.144365 -0.033480 -0.006703   \n",
       "97331.0        7.0  0.017279  0.138709 -0.166361 -0.095967  0.048324   \n",
       "97344.0       26.0  0.009182  0.083530 -0.199432 -0.029875  0.009202   \n",
       "399675.0       5.0 -0.014239  0.067017 -0.126013 -0.014332 -0.002223   \n",
       "\n",
       "                  75%       max  \n",
       "regionidzip                      \n",
       "95982.0      0.040157  0.214760  \n",
       "95983.0      0.033346  0.197541  \n",
       "95984.0      0.027118  0.185490  \n",
       "95985.0      0.057829  0.213379  \n",
       "95986.0      0.045187  0.204836  \n",
       "...               ...       ...  \n",
       "97329.0      0.025874  0.186905  \n",
       "97330.0      0.015107  0.144299  \n",
       "97331.0      0.127861  0.175201  \n",
       "97344.0      0.076178  0.171279  \n",
       "399675.0     0.022602  0.048769  \n",
       "\n",
       "[385 rows x 8 columns]"
      ]
     },
     "execution_count": 25,
     "metadata": {},
     "output_type": "execute_result"
    }
   ],
   "source": [
    "train.groupby('regionidzip').logerror.describe()"
   ]
  },
  {
   "cell_type": "code",
   "execution_count": 30,
   "id": "9e891e71",
   "metadata": {},
   "outputs": [],
   "source": [
    "from scipy import stats\n",
    "''' creating a function that runs a one sample t test and returns a list of zipcode with \n",
    "higher and lower mean compared to the overall average\n",
    "'''\n",
    "\n",
    "\n",
    "def get_zip_with_high_logerror(df):\n",
    "    zipcode = []\n",
    "    for num in df.regionidzip.unique():\n",
    "        a = 0.025\n",
    "        x1 = df[df.regionidzip == num].logerror\n",
    "        x2 = df.logerror\n",
    "        t, p = stats.ttest_1samp(x1, x2.mean())\n",
    "        if (t > 0) & (p < a):\n",
    "            zipcode.append(num)\n",
    "        \n",
    "    return zipcode\n",
    "\n",
    "def get_zip_with_low_logerror(df):\n",
    "    zipcode = []\n",
    "    for num in df.regionidzip.unique():\n",
    "        a = 0.025\n",
    "        x1 = df[df.regionidzip == num].logerror\n",
    "        x2 = df.logerror\n",
    "        t, p = stats.ttest_1samp(x1, x2.mean())\n",
    "        if (t < 0) & (p < a):\n",
    "            zipcode.append(num)\n",
    "        \n",
    "    return zipcode"
   ]
  },
  {
   "cell_type": "code",
   "execution_count": 31,
   "id": "0a270bad",
   "metadata": {},
   "outputs": [
    {
     "name": "stdout",
     "output_type": "stream",
     "text": [
      "Here are the high logerror zipcodes \n",
      "[96336.0, 96475.0, 96985.0, 97298.0, 96398.0, 96387.0, 96969.0, 97106.0, 96351.0, 96103.0, 95988.0, 97068.0, 96465.0, 96122.0, 96469.0, 96216.0, 96959.0, 96513.0, 96116.0, 96486.0, 96490.0, 96217.0, 96204.0, 95998.0]\n",
      "\n",
      "Here are the low logerror zipcodes \n",
      " [96023.0, 95989.0, 96095.0, 96047.0, 96137.0, 96410.0, 97318.0, 96294.0, 97006.0, 97104.0, 96171.0, 96941.0, 97048.0, 97330.0, 95997.0, 96515.0, 96371.0, 96092.0, 97018.0, 96271.0, 96280.0, 96326.0, 96007.0]\n"
     ]
    }
   ],
   "source": [
    "high_zipcode = get_zip_with_high_logerror(train)\n",
    "\n",
    "low_zipcode = get_zip_with_low_logerror(train)\n",
    "\n",
    "\n",
    "print(f'Here are the high logerror zipcodes \\n{high_zipcode}')\n",
    "print()\n",
    "\n",
    "print(f'Here are the low logerror zipcodes \\n {low_zipcode}')"
   ]
  },
  {
   "cell_type": "markdown",
   "id": "c27ea4fe",
   "metadata": {},
   "source": [
    "#### Takeaways:\n",
    "     - a handful of zipcodes are significanly higher than the average log error\n",
    "     - There are certain zipcodes taht are significantly lower than the average logerror"
   ]
  },
  {
   "cell_type": "code",
   "execution_count": null,
   "id": "b27acf5c",
   "metadata": {},
   "outputs": [],
   "source": []
  }
 ],
 "metadata": {
  "kernelspec": {
   "display_name": "Python 3 (ipykernel)",
   "language": "python",
   "name": "python3"
  },
  "language_info": {
   "codemirror_mode": {
    "name": "ipython",
    "version": 3
   },
   "file_extension": ".py",
   "mimetype": "text/x-python",
   "name": "python",
   "nbconvert_exporter": "python",
   "pygments_lexer": "ipython3",
   "version": "3.9.7"
  }
 },
 "nbformat": 4,
 "nbformat_minor": 5
}
