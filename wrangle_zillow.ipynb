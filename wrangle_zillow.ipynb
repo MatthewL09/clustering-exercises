{
 "cells": [
  {
   "cell_type": "code",
   "execution_count": 1,
   "id": "188ea032",
   "metadata": {},
   "outputs": [],
   "source": [
    "import numpy as np\n",
    "import pandas as pd\n",
    "import matplotlib.pyplot as plt\n",
    "import seaborn as sns\n",
    "\n",
    "import os\n",
    "from env import user, password, host"
   ]
  },
  {
   "cell_type": "code",
   "execution_count": 2,
   "id": "24271c10",
   "metadata": {},
   "outputs": [],
   "source": [
    "def get_zillow_data(use_cache=True):\n",
    "    '''This function returns the data from the zillow database in Codeup Data Science Database. \n",
    "    In my SQL query I have joined all necessary tables together, so that the resulting dataframe contains all the \n",
    "    information that is needed\n",
    "    '''\n",
    "    if os.path.exists('zillow.csv') and use_cache:\n",
    "        print('Using cached csv')\n",
    "        return pd.read_csv('zillow.csv')\n",
    "    print('Acquiring data from SQL database')\n",
    "\n",
    "    database_url_base = f'mysql+pymysql://{user}:{password}@{host}/'\n",
    "    query = '''\n",
    "    select * from properties_2017\n",
    "    join predictions_2017 using(parcelid)\n",
    "    left join airconditioningtype using(airconditioningtypeid)\n",
    "    left join architecturalstyletype using(architecturalstyletypeid)\n",
    "    left join buildingclasstype using(buildingclasstypeid)\n",
    "    left join heatingorsystemtype using(heatingorsystemtypeid)\n",
    "    left join propertylandusetype using(propertylandusetypeid)\n",
    "    left join storytype using(storytypeid)\n",
    "    left join typeconstructiontype using(typeconstructiontypeid)\n",
    "    where latitude IS NOT NULL\n",
    "    and longitude IS NOT NULL\n",
    "     '''\n",
    "    df = pd.read_sql(query, database_url_base + 'zillow')\n",
    "    df.to_csv('zillow.csv', index=False)\n",
    "    return df"
   ]
  },
  {
   "cell_type": "code",
   "execution_count": 3,
   "id": "97e12feb",
   "metadata": {},
   "outputs": [
    {
     "name": "stdout",
     "output_type": "stream",
     "text": [
      "Using cached csv\n"
     ]
    },
    {
     "name": "stderr",
     "output_type": "stream",
     "text": [
      "/var/folders/dy/6l70n7994h596yst0fdjbly40000gn/T/ipykernel_48072/1979247754.py:1: DtypeWarning: Columns (64) have mixed types.Specify dtype option on import or set low_memory=False.\n",
      "  df = get_zillow_data()\n"
     ]
    }
   ],
   "source": [
    "df = get_zillow_data()"
   ]
  },
  {
   "cell_type": "code",
   "execution_count": 4,
   "id": "1dd511c7",
   "metadata": {},
   "outputs": [
    {
     "data": {
      "text/html": [
       "<div>\n",
       "<style scoped>\n",
       "    .dataframe tbody tr th:only-of-type {\n",
       "        vertical-align: middle;\n",
       "    }\n",
       "\n",
       "    .dataframe tbody tr th {\n",
       "        vertical-align: top;\n",
       "    }\n",
       "\n",
       "    .dataframe thead th {\n",
       "        text-align: right;\n",
       "    }\n",
       "</style>\n",
       "<table border=\"1\" class=\"dataframe\">\n",
       "  <thead>\n",
       "    <tr style=\"text-align: right;\">\n",
       "      <th></th>\n",
       "      <th>typeconstructiontypeid</th>\n",
       "      <th>storytypeid</th>\n",
       "      <th>propertylandusetypeid</th>\n",
       "      <th>heatingorsystemtypeid</th>\n",
       "      <th>buildingclasstypeid</th>\n",
       "      <th>architecturalstyletypeid</th>\n",
       "      <th>airconditioningtypeid</th>\n",
       "      <th>parcelid</th>\n",
       "      <th>id</th>\n",
       "      <th>basementsqft</th>\n",
       "      <th>...</th>\n",
       "      <th>id.1</th>\n",
       "      <th>logerror</th>\n",
       "      <th>transactiondate</th>\n",
       "      <th>airconditioningdesc</th>\n",
       "      <th>architecturalstyledesc</th>\n",
       "      <th>buildingclassdesc</th>\n",
       "      <th>heatingorsystemdesc</th>\n",
       "      <th>propertylandusedesc</th>\n",
       "      <th>storydesc</th>\n",
       "      <th>typeconstructiondesc</th>\n",
       "    </tr>\n",
       "  </thead>\n",
       "  <tbody>\n",
       "    <tr>\n",
       "      <th>0</th>\n",
       "      <td>NaN</td>\n",
       "      <td>NaN</td>\n",
       "      <td>261.0</td>\n",
       "      <td>NaN</td>\n",
       "      <td>NaN</td>\n",
       "      <td>NaN</td>\n",
       "      <td>NaN</td>\n",
       "      <td>14297519</td>\n",
       "      <td>1727539</td>\n",
       "      <td>NaN</td>\n",
       "      <td>...</td>\n",
       "      <td>0</td>\n",
       "      <td>0.025595</td>\n",
       "      <td>2017-01-01</td>\n",
       "      <td>NaN</td>\n",
       "      <td>NaN</td>\n",
       "      <td>NaN</td>\n",
       "      <td>NaN</td>\n",
       "      <td>Single Family Residential</td>\n",
       "      <td>NaN</td>\n",
       "      <td>NaN</td>\n",
       "    </tr>\n",
       "    <tr>\n",
       "      <th>1</th>\n",
       "      <td>NaN</td>\n",
       "      <td>NaN</td>\n",
       "      <td>261.0</td>\n",
       "      <td>NaN</td>\n",
       "      <td>NaN</td>\n",
       "      <td>NaN</td>\n",
       "      <td>NaN</td>\n",
       "      <td>17052889</td>\n",
       "      <td>1387261</td>\n",
       "      <td>NaN</td>\n",
       "      <td>...</td>\n",
       "      <td>1</td>\n",
       "      <td>0.055619</td>\n",
       "      <td>2017-01-01</td>\n",
       "      <td>NaN</td>\n",
       "      <td>NaN</td>\n",
       "      <td>NaN</td>\n",
       "      <td>NaN</td>\n",
       "      <td>Single Family Residential</td>\n",
       "      <td>NaN</td>\n",
       "      <td>NaN</td>\n",
       "    </tr>\n",
       "    <tr>\n",
       "      <th>2</th>\n",
       "      <td>NaN</td>\n",
       "      <td>NaN</td>\n",
       "      <td>261.0</td>\n",
       "      <td>NaN</td>\n",
       "      <td>NaN</td>\n",
       "      <td>NaN</td>\n",
       "      <td>NaN</td>\n",
       "      <td>14186244</td>\n",
       "      <td>11677</td>\n",
       "      <td>NaN</td>\n",
       "      <td>...</td>\n",
       "      <td>2</td>\n",
       "      <td>0.005383</td>\n",
       "      <td>2017-01-01</td>\n",
       "      <td>NaN</td>\n",
       "      <td>NaN</td>\n",
       "      <td>NaN</td>\n",
       "      <td>NaN</td>\n",
       "      <td>Single Family Residential</td>\n",
       "      <td>NaN</td>\n",
       "      <td>NaN</td>\n",
       "    </tr>\n",
       "    <tr>\n",
       "      <th>3</th>\n",
       "      <td>NaN</td>\n",
       "      <td>NaN</td>\n",
       "      <td>261.0</td>\n",
       "      <td>2.0</td>\n",
       "      <td>NaN</td>\n",
       "      <td>NaN</td>\n",
       "      <td>NaN</td>\n",
       "      <td>12177905</td>\n",
       "      <td>2288172</td>\n",
       "      <td>NaN</td>\n",
       "      <td>...</td>\n",
       "      <td>3</td>\n",
       "      <td>-0.103410</td>\n",
       "      <td>2017-01-01</td>\n",
       "      <td>NaN</td>\n",
       "      <td>NaN</td>\n",
       "      <td>NaN</td>\n",
       "      <td>Central</td>\n",
       "      <td>Single Family Residential</td>\n",
       "      <td>NaN</td>\n",
       "      <td>NaN</td>\n",
       "    </tr>\n",
       "    <tr>\n",
       "      <th>4</th>\n",
       "      <td>NaN</td>\n",
       "      <td>NaN</td>\n",
       "      <td>266.0</td>\n",
       "      <td>2.0</td>\n",
       "      <td>NaN</td>\n",
       "      <td>NaN</td>\n",
       "      <td>1.0</td>\n",
       "      <td>10887214</td>\n",
       "      <td>1970746</td>\n",
       "      <td>NaN</td>\n",
       "      <td>...</td>\n",
       "      <td>4</td>\n",
       "      <td>0.006940</td>\n",
       "      <td>2017-01-01</td>\n",
       "      <td>Central</td>\n",
       "      <td>NaN</td>\n",
       "      <td>NaN</td>\n",
       "      <td>Central</td>\n",
       "      <td>Condominium</td>\n",
       "      <td>NaN</td>\n",
       "      <td>NaN</td>\n",
       "    </tr>\n",
       "  </tbody>\n",
       "</table>\n",
       "<p>5 rows × 69 columns</p>\n",
       "</div>"
      ],
      "text/plain": [
       "   typeconstructiontypeid  storytypeid  propertylandusetypeid  \\\n",
       "0                     NaN          NaN                  261.0   \n",
       "1                     NaN          NaN                  261.0   \n",
       "2                     NaN          NaN                  261.0   \n",
       "3                     NaN          NaN                  261.0   \n",
       "4                     NaN          NaN                  266.0   \n",
       "\n",
       "   heatingorsystemtypeid  buildingclasstypeid  architecturalstyletypeid  \\\n",
       "0                    NaN                  NaN                       NaN   \n",
       "1                    NaN                  NaN                       NaN   \n",
       "2                    NaN                  NaN                       NaN   \n",
       "3                    2.0                  NaN                       NaN   \n",
       "4                    2.0                  NaN                       NaN   \n",
       "\n",
       "   airconditioningtypeid  parcelid       id  basementsqft  ...  id.1  \\\n",
       "0                    NaN  14297519  1727539           NaN  ...     0   \n",
       "1                    NaN  17052889  1387261           NaN  ...     1   \n",
       "2                    NaN  14186244    11677           NaN  ...     2   \n",
       "3                    NaN  12177905  2288172           NaN  ...     3   \n",
       "4                    1.0  10887214  1970746           NaN  ...     4   \n",
       "\n",
       "   logerror  transactiondate  airconditioningdesc  architecturalstyledesc  \\\n",
       "0  0.025595       2017-01-01                  NaN                     NaN   \n",
       "1  0.055619       2017-01-01                  NaN                     NaN   \n",
       "2  0.005383       2017-01-01                  NaN                     NaN   \n",
       "3 -0.103410       2017-01-01                  NaN                     NaN   \n",
       "4  0.006940       2017-01-01              Central                     NaN   \n",
       "\n",
       "   buildingclassdesc  heatingorsystemdesc        propertylandusedesc  \\\n",
       "0                NaN                  NaN  Single Family Residential   \n",
       "1                NaN                  NaN  Single Family Residential   \n",
       "2                NaN                  NaN  Single Family Residential   \n",
       "3                NaN              Central  Single Family Residential   \n",
       "4                NaN              Central                Condominium   \n",
       "\n",
       "   storydesc  typeconstructiondesc  \n",
       "0        NaN                   NaN  \n",
       "1        NaN                   NaN  \n",
       "2        NaN                   NaN  \n",
       "3        NaN                   NaN  \n",
       "4        NaN                   NaN  \n",
       "\n",
       "[5 rows x 69 columns]"
      ]
     },
     "execution_count": 4,
     "metadata": {},
     "output_type": "execute_result"
    }
   ],
   "source": [
    "df.head()"
   ]
  },
  {
   "cell_type": "code",
   "execution_count": 5,
   "id": "31c7cce4",
   "metadata": {},
   "outputs": [
    {
     "data": {
      "text/plain": [
       "(77580, 69)"
      ]
     },
     "execution_count": 5,
     "metadata": {},
     "output_type": "execute_result"
    }
   ],
   "source": [
    "df.shape"
   ]
  },
  {
   "cell_type": "code",
   "execution_count": 6,
   "id": "a1ba5bb0",
   "metadata": {},
   "outputs": [
    {
     "data": {
      "text/html": [
       "<div>\n",
       "<style scoped>\n",
       "    .dataframe tbody tr th:only-of-type {\n",
       "        vertical-align: middle;\n",
       "    }\n",
       "\n",
       "    .dataframe tbody tr th {\n",
       "        vertical-align: top;\n",
       "    }\n",
       "\n",
       "    .dataframe thead th {\n",
       "        text-align: right;\n",
       "    }\n",
       "</style>\n",
       "<table border=\"1\" class=\"dataframe\">\n",
       "  <thead>\n",
       "    <tr style=\"text-align: right;\">\n",
       "      <th></th>\n",
       "      <th>typeconstructiontypeid</th>\n",
       "      <th>storytypeid</th>\n",
       "      <th>propertylandusetypeid</th>\n",
       "      <th>heatingorsystemtypeid</th>\n",
       "      <th>buildingclasstypeid</th>\n",
       "      <th>architecturalstyletypeid</th>\n",
       "      <th>airconditioningtypeid</th>\n",
       "      <th>parcelid</th>\n",
       "      <th>id</th>\n",
       "      <th>basementsqft</th>\n",
       "      <th>...</th>\n",
       "      <th>fireplaceflag</th>\n",
       "      <th>structuretaxvaluedollarcnt</th>\n",
       "      <th>taxvaluedollarcnt</th>\n",
       "      <th>assessmentyear</th>\n",
       "      <th>landtaxvaluedollarcnt</th>\n",
       "      <th>taxamount</th>\n",
       "      <th>taxdelinquencyyear</th>\n",
       "      <th>censustractandblock</th>\n",
       "      <th>id.1</th>\n",
       "      <th>logerror</th>\n",
       "    </tr>\n",
       "  </thead>\n",
       "  <tbody>\n",
       "    <tr>\n",
       "      <th>count</th>\n",
       "      <td>223.000000</td>\n",
       "      <td>50.0</td>\n",
       "      <td>77580.000000</td>\n",
       "      <td>49572.000000</td>\n",
       "      <td>15.000000</td>\n",
       "      <td>207.000000</td>\n",
       "      <td>25007.000000</td>\n",
       "      <td>7.758000e+04</td>\n",
       "      <td>7.758000e+04</td>\n",
       "      <td>50.000000</td>\n",
       "      <td>...</td>\n",
       "      <td>172.0</td>\n",
       "      <td>7.746500e+04</td>\n",
       "      <td>7.757900e+04</td>\n",
       "      <td>77580.0</td>\n",
       "      <td>7.757800e+04</td>\n",
       "      <td>77575.000000</td>\n",
       "      <td>2900.000000</td>\n",
       "      <td>7.733300e+04</td>\n",
       "      <td>77580.000000</td>\n",
       "      <td>77580.000000</td>\n",
       "    </tr>\n",
       "    <tr>\n",
       "      <th>mean</th>\n",
       "      <td>6.040359</td>\n",
       "      <td>7.0</td>\n",
       "      <td>261.824465</td>\n",
       "      <td>3.921811</td>\n",
       "      <td>3.933333</td>\n",
       "      <td>7.386473</td>\n",
       "      <td>1.812013</td>\n",
       "      <td>1.300828e+07</td>\n",
       "      <td>1.495404e+06</td>\n",
       "      <td>679.720000</td>\n",
       "      <td>...</td>\n",
       "      <td>1.0</td>\n",
       "      <td>1.892796e+05</td>\n",
       "      <td>4.901476e+05</td>\n",
       "      <td>2016.0</td>\n",
       "      <td>3.011500e+05</td>\n",
       "      <td>5995.927626</td>\n",
       "      <td>14.088276</td>\n",
       "      <td>6.049667e+13</td>\n",
       "      <td>38806.723795</td>\n",
       "      <td>0.016800</td>\n",
       "    </tr>\n",
       "    <tr>\n",
       "      <th>std</th>\n",
       "      <td>0.556035</td>\n",
       "      <td>0.0</td>\n",
       "      <td>5.141564</td>\n",
       "      <td>3.594770</td>\n",
       "      <td>0.258199</td>\n",
       "      <td>2.728030</td>\n",
       "      <td>2.965768</td>\n",
       "      <td>3.519376e+06</td>\n",
       "      <td>8.609700e+05</td>\n",
       "      <td>689.703546</td>\n",
       "      <td>...</td>\n",
       "      <td>0.0</td>\n",
       "      <td>2.304095e+05</td>\n",
       "      <td>6.537942e+05</td>\n",
       "      <td>0.0</td>\n",
       "      <td>4.927219e+05</td>\n",
       "      <td>7628.816490</td>\n",
       "      <td>2.181281</td>\n",
       "      <td>1.533329e+12</td>\n",
       "      <td>22403.756329</td>\n",
       "      <td>0.170739</td>\n",
       "    </tr>\n",
       "    <tr>\n",
       "      <th>min</th>\n",
       "      <td>4.000000</td>\n",
       "      <td>7.0</td>\n",
       "      <td>31.000000</td>\n",
       "      <td>1.000000</td>\n",
       "      <td>3.000000</td>\n",
       "      <td>2.000000</td>\n",
       "      <td>1.000000</td>\n",
       "      <td>1.071186e+07</td>\n",
       "      <td>3.490000e+02</td>\n",
       "      <td>38.000000</td>\n",
       "      <td>...</td>\n",
       "      <td>1.0</td>\n",
       "      <td>4.400000e+01</td>\n",
       "      <td>1.000000e+03</td>\n",
       "      <td>2016.0</td>\n",
       "      <td>1.610000e+02</td>\n",
       "      <td>19.920000</td>\n",
       "      <td>3.000000</td>\n",
       "      <td>6.037101e+13</td>\n",
       "      <td>0.000000</td>\n",
       "      <td>-4.655420</td>\n",
       "    </tr>\n",
       "    <tr>\n",
       "      <th>25%</th>\n",
       "      <td>6.000000</td>\n",
       "      <td>7.0</td>\n",
       "      <td>261.000000</td>\n",
       "      <td>2.000000</td>\n",
       "      <td>4.000000</td>\n",
       "      <td>7.000000</td>\n",
       "      <td>1.000000</td>\n",
       "      <td>1.153820e+07</td>\n",
       "      <td>7.521430e+05</td>\n",
       "      <td>273.000000</td>\n",
       "      <td>...</td>\n",
       "      <td>1.0</td>\n",
       "      <td>8.417100e+04</td>\n",
       "      <td>2.068990e+05</td>\n",
       "      <td>2016.0</td>\n",
       "      <td>8.529325e+04</td>\n",
       "      <td>2712.650000</td>\n",
       "      <td>14.000000</td>\n",
       "      <td>6.037311e+13</td>\n",
       "      <td>19404.750000</td>\n",
       "      <td>-0.024310</td>\n",
       "    </tr>\n",
       "    <tr>\n",
       "      <th>50%</th>\n",
       "      <td>6.000000</td>\n",
       "      <td>7.0</td>\n",
       "      <td>261.000000</td>\n",
       "      <td>2.000000</td>\n",
       "      <td>4.000000</td>\n",
       "      <td>7.000000</td>\n",
       "      <td>1.000000</td>\n",
       "      <td>1.253056e+07</td>\n",
       "      <td>1.498256e+06</td>\n",
       "      <td>515.000000</td>\n",
       "      <td>...</td>\n",
       "      <td>1.0</td>\n",
       "      <td>1.364020e+05</td>\n",
       "      <td>3.588780e+05</td>\n",
       "      <td>2016.0</td>\n",
       "      <td>2.031810e+05</td>\n",
       "      <td>4448.230000</td>\n",
       "      <td>15.000000</td>\n",
       "      <td>6.037603e+13</td>\n",
       "      <td>38804.500000</td>\n",
       "      <td>0.006675</td>\n",
       "    </tr>\n",
       "    <tr>\n",
       "      <th>75%</th>\n",
       "      <td>6.000000</td>\n",
       "      <td>7.0</td>\n",
       "      <td>266.000000</td>\n",
       "      <td>7.000000</td>\n",
       "      <td>4.000000</td>\n",
       "      <td>7.000000</td>\n",
       "      <td>1.000000</td>\n",
       "      <td>1.421135e+07</td>\n",
       "      <td>2.240950e+06</td>\n",
       "      <td>796.500000</td>\n",
       "      <td>...</td>\n",
       "      <td>1.0</td>\n",
       "      <td>2.187340e+05</td>\n",
       "      <td>5.690000e+05</td>\n",
       "      <td>2016.0</td>\n",
       "      <td>3.667398e+05</td>\n",
       "      <td>6926.885000</td>\n",
       "      <td>15.000000</td>\n",
       "      <td>6.059042e+13</td>\n",
       "      <td>58208.250000</td>\n",
       "      <td>0.039291</td>\n",
       "    </tr>\n",
       "    <tr>\n",
       "      <th>max</th>\n",
       "      <td>13.000000</td>\n",
       "      <td>7.0</td>\n",
       "      <td>275.000000</td>\n",
       "      <td>24.000000</td>\n",
       "      <td>4.000000</td>\n",
       "      <td>21.000000</td>\n",
       "      <td>13.000000</td>\n",
       "      <td>1.676893e+08</td>\n",
       "      <td>2.982274e+06</td>\n",
       "      <td>3560.000000</td>\n",
       "      <td>...</td>\n",
       "      <td>1.0</td>\n",
       "      <td>1.142179e+07</td>\n",
       "      <td>4.906124e+07</td>\n",
       "      <td>2016.0</td>\n",
       "      <td>4.895220e+07</td>\n",
       "      <td>586639.300000</td>\n",
       "      <td>99.000000</td>\n",
       "      <td>4.830301e+14</td>\n",
       "      <td>77613.000000</td>\n",
       "      <td>5.262999</td>\n",
       "    </tr>\n",
       "  </tbody>\n",
       "</table>\n",
       "<p>8 rows × 58 columns</p>\n",
       "</div>"
      ],
      "text/plain": [
       "       typeconstructiontypeid  storytypeid  propertylandusetypeid  \\\n",
       "count              223.000000         50.0           77580.000000   \n",
       "mean                 6.040359          7.0             261.824465   \n",
       "std                  0.556035          0.0               5.141564   \n",
       "min                  4.000000          7.0              31.000000   \n",
       "25%                  6.000000          7.0             261.000000   \n",
       "50%                  6.000000          7.0             261.000000   \n",
       "75%                  6.000000          7.0             266.000000   \n",
       "max                 13.000000          7.0             275.000000   \n",
       "\n",
       "       heatingorsystemtypeid  buildingclasstypeid  architecturalstyletypeid  \\\n",
       "count           49572.000000            15.000000                207.000000   \n",
       "mean                3.921811             3.933333                  7.386473   \n",
       "std                 3.594770             0.258199                  2.728030   \n",
       "min                 1.000000             3.000000                  2.000000   \n",
       "25%                 2.000000             4.000000                  7.000000   \n",
       "50%                 2.000000             4.000000                  7.000000   \n",
       "75%                 7.000000             4.000000                  7.000000   \n",
       "max                24.000000             4.000000                 21.000000   \n",
       "\n",
       "       airconditioningtypeid      parcelid            id  basementsqft  ...  \\\n",
       "count           25007.000000  7.758000e+04  7.758000e+04     50.000000  ...   \n",
       "mean                1.812013  1.300828e+07  1.495404e+06    679.720000  ...   \n",
       "std                 2.965768  3.519376e+06  8.609700e+05    689.703546  ...   \n",
       "min                 1.000000  1.071186e+07  3.490000e+02     38.000000  ...   \n",
       "25%                 1.000000  1.153820e+07  7.521430e+05    273.000000  ...   \n",
       "50%                 1.000000  1.253056e+07  1.498256e+06    515.000000  ...   \n",
       "75%                 1.000000  1.421135e+07  2.240950e+06    796.500000  ...   \n",
       "max                13.000000  1.676893e+08  2.982274e+06   3560.000000  ...   \n",
       "\n",
       "       fireplaceflag  structuretaxvaluedollarcnt  taxvaluedollarcnt  \\\n",
       "count          172.0                7.746500e+04       7.757900e+04   \n",
       "mean             1.0                1.892796e+05       4.901476e+05   \n",
       "std              0.0                2.304095e+05       6.537942e+05   \n",
       "min              1.0                4.400000e+01       1.000000e+03   \n",
       "25%              1.0                8.417100e+04       2.068990e+05   \n",
       "50%              1.0                1.364020e+05       3.588780e+05   \n",
       "75%              1.0                2.187340e+05       5.690000e+05   \n",
       "max              1.0                1.142179e+07       4.906124e+07   \n",
       "\n",
       "       assessmentyear  landtaxvaluedollarcnt      taxamount  \\\n",
       "count         77580.0           7.757800e+04   77575.000000   \n",
       "mean           2016.0           3.011500e+05    5995.927626   \n",
       "std               0.0           4.927219e+05    7628.816490   \n",
       "min            2016.0           1.610000e+02      19.920000   \n",
       "25%            2016.0           8.529325e+04    2712.650000   \n",
       "50%            2016.0           2.031810e+05    4448.230000   \n",
       "75%            2016.0           3.667398e+05    6926.885000   \n",
       "max            2016.0           4.895220e+07  586639.300000   \n",
       "\n",
       "       taxdelinquencyyear  censustractandblock          id.1      logerror  \n",
       "count         2900.000000         7.733300e+04  77580.000000  77580.000000  \n",
       "mean            14.088276         6.049667e+13  38806.723795      0.016800  \n",
       "std              2.181281         1.533329e+12  22403.756329      0.170739  \n",
       "min              3.000000         6.037101e+13      0.000000     -4.655420  \n",
       "25%             14.000000         6.037311e+13  19404.750000     -0.024310  \n",
       "50%             15.000000         6.037603e+13  38804.500000      0.006675  \n",
       "75%             15.000000         6.059042e+13  58208.250000      0.039291  \n",
       "max             99.000000         4.830301e+14  77613.000000      5.262999  \n",
       "\n",
       "[8 rows x 58 columns]"
      ]
     },
     "execution_count": 6,
     "metadata": {},
     "output_type": "execute_result"
    }
   ],
   "source": [
    "df.describe()"
   ]
  },
  {
   "cell_type": "code",
   "execution_count": 7,
   "id": "47f2bd3a",
   "metadata": {},
   "outputs": [
    {
     "data": {
      "text/plain": [
       "buildingclassdesc           77565\n",
       "buildingclasstypeid         77565\n",
       "finishedsquarefeet13        77538\n",
       "storydesc                   77530\n",
       "basementsqft                77530\n",
       "storytypeid                 77530\n",
       "yardbuildingsqft26          77510\n",
       "fireplaceflag               77408\n",
       "architecturalstyletypeid    77373\n",
       "architecturalstyledesc      77373\n",
       "typeconstructiontypeid      77357\n",
       "typeconstructiondesc        77357\n",
       "finishedsquarefeet6         77194\n",
       "pooltypeid10                77115\n",
       "decktypeid                  76966\n",
       "poolsizesum                 76711\n",
       "pooltypeid2                 76506\n",
       "hashottuborspa              76041\n",
       "yardbuildingsqft17          75187\n",
       "taxdelinquencyflag          74680\n",
       "dtype: int64"
      ]
     },
     "execution_count": 7,
     "metadata": {},
     "output_type": "execute_result"
    }
   ],
   "source": [
    "# Get count of nulls values and sort them\n",
    "nulls = df.isnull().sum().sort_values(ascending = False)\n",
    "\n",
    "# where are most of the nulls\n",
    "nulls.head(20)"
   ]
  },
  {
   "cell_type": "code",
   "execution_count": 8,
   "id": "11712812",
   "metadata": {},
   "outputs": [
    {
     "data": {
      "text/plain": [
       "taxamount                    5\n",
       "landtaxvaluedollarcnt        2\n",
       "taxvaluedollarcnt            1\n",
       "propertylandusedesc          0\n",
       "id.1                         0\n",
       "bedroomcnt                   0\n",
       "fips                         0\n",
       "transactiondate              0\n",
       "logerror                     0\n",
       "propertylandusetypeid        0\n",
       "assessmentyear               0\n",
       "latitude                     0\n",
       "rawcensustractandblock       0\n",
       "parcelid                     0\n",
       "longitude                    0\n",
       "id                           0\n",
       "bathroomcnt                  0\n",
       "roomcnt                      0\n",
       "propertycountylandusecode    0\n",
       "regionidcounty               0\n",
       "dtype: int64"
      ]
     },
     "execution_count": 8,
     "metadata": {},
     "output_type": "execute_result"
    }
   ],
   "source": [
    "#Look at the least number of nulls\n",
    "nulls.tail(20)"
   ]
  },
  {
   "cell_type": "code",
   "execution_count": 9,
   "id": "278b09c3",
   "metadata": {},
   "outputs": [],
   "source": [
    "def nulls_by_col(df):\n",
    "    num_missing = df.isnull().sum()\n",
    "    rows = df.shape[0]\n",
    "    percent_missing = num_missing / rows\n",
    "    cols_missing = pd.DataFrame({'number_missing_rows':num_missing, 'percent_rows_missing': percent_missing})\n",
    "    return cols_missing"
   ]
  },
  {
   "cell_type": "code",
   "execution_count": 10,
   "id": "01df682a",
   "metadata": {},
   "outputs": [
    {
     "data": {
      "text/html": [
       "<div>\n",
       "<style scoped>\n",
       "    .dataframe tbody tr th:only-of-type {\n",
       "        vertical-align: middle;\n",
       "    }\n",
       "\n",
       "    .dataframe tbody tr th {\n",
       "        vertical-align: top;\n",
       "    }\n",
       "\n",
       "    .dataframe thead th {\n",
       "        text-align: right;\n",
       "    }\n",
       "</style>\n",
       "<table border=\"1\" class=\"dataframe\">\n",
       "  <thead>\n",
       "    <tr style=\"text-align: right;\">\n",
       "      <th></th>\n",
       "      <th>number_missing_rows</th>\n",
       "      <th>percent_rows_missing</th>\n",
       "    </tr>\n",
       "  </thead>\n",
       "  <tbody>\n",
       "    <tr>\n",
       "      <th>buildingclassdesc</th>\n",
       "      <td>77565</td>\n",
       "      <td>0.999807</td>\n",
       "    </tr>\n",
       "    <tr>\n",
       "      <th>buildingclasstypeid</th>\n",
       "      <td>77565</td>\n",
       "      <td>0.999807</td>\n",
       "    </tr>\n",
       "    <tr>\n",
       "      <th>finishedsquarefeet13</th>\n",
       "      <td>77538</td>\n",
       "      <td>0.999459</td>\n",
       "    </tr>\n",
       "    <tr>\n",
       "      <th>storydesc</th>\n",
       "      <td>77530</td>\n",
       "      <td>0.999356</td>\n",
       "    </tr>\n",
       "    <tr>\n",
       "      <th>basementsqft</th>\n",
       "      <td>77530</td>\n",
       "      <td>0.999356</td>\n",
       "    </tr>\n",
       "    <tr>\n",
       "      <th>storytypeid</th>\n",
       "      <td>77530</td>\n",
       "      <td>0.999356</td>\n",
       "    </tr>\n",
       "    <tr>\n",
       "      <th>yardbuildingsqft26</th>\n",
       "      <td>77510</td>\n",
       "      <td>0.999098</td>\n",
       "    </tr>\n",
       "    <tr>\n",
       "      <th>fireplaceflag</th>\n",
       "      <td>77408</td>\n",
       "      <td>0.997783</td>\n",
       "    </tr>\n",
       "    <tr>\n",
       "      <th>architecturalstyletypeid</th>\n",
       "      <td>77373</td>\n",
       "      <td>0.997332</td>\n",
       "    </tr>\n",
       "    <tr>\n",
       "      <th>architecturalstyledesc</th>\n",
       "      <td>77373</td>\n",
       "      <td>0.997332</td>\n",
       "    </tr>\n",
       "  </tbody>\n",
       "</table>\n",
       "</div>"
      ],
      "text/plain": [
       "                          number_missing_rows  percent_rows_missing\n",
       "buildingclassdesc                       77565              0.999807\n",
       "buildingclasstypeid                     77565              0.999807\n",
       "finishedsquarefeet13                    77538              0.999459\n",
       "storydesc                               77530              0.999356\n",
       "basementsqft                            77530              0.999356\n",
       "storytypeid                             77530              0.999356\n",
       "yardbuildingsqft26                      77510              0.999098\n",
       "fireplaceflag                           77408              0.997783\n",
       "architecturalstyletypeid                77373              0.997332\n",
       "architecturalstyledesc                  77373              0.997332"
      ]
     },
     "execution_count": 10,
     "metadata": {},
     "output_type": "execute_result"
    }
   ],
   "source": [
    "nulls_by_columns = nulls_by_col(df)\n",
    "nulls_by_columns.sort_values(by = 'percent_rows_missing', ascending = False, inplace = True)\n",
    "nulls_by_columns.head(10)"
   ]
  },
  {
   "cell_type": "code",
   "execution_count": 11,
   "id": "9116696e",
   "metadata": {},
   "outputs": [
    {
     "data": {
      "text/html": [
       "<div>\n",
       "<style scoped>\n",
       "    .dataframe tbody tr th:only-of-type {\n",
       "        vertical-align: middle;\n",
       "    }\n",
       "\n",
       "    .dataframe tbody tr th {\n",
       "        vertical-align: top;\n",
       "    }\n",
       "\n",
       "    .dataframe thead th {\n",
       "        text-align: right;\n",
       "    }\n",
       "</style>\n",
       "<table border=\"1\" class=\"dataframe\">\n",
       "  <thead>\n",
       "    <tr style=\"text-align: right;\">\n",
       "      <th></th>\n",
       "      <th>num_cols_missing</th>\n",
       "      <th>pct_cols_missing</th>\n",
       "      <th>num_rows</th>\n",
       "    </tr>\n",
       "  </thead>\n",
       "  <tbody>\n",
       "    <tr>\n",
       "      <th>25</th>\n",
       "      <td>48</td>\n",
       "      <td>69.56521739130434</td>\n",
       "      <td>3</td>\n",
       "    </tr>\n",
       "    <tr>\n",
       "      <th>24</th>\n",
       "      <td>47</td>\n",
       "      <td>68.11594202898551</td>\n",
       "      <td>3</td>\n",
       "    </tr>\n",
       "    <tr>\n",
       "      <th>23</th>\n",
       "      <td>46</td>\n",
       "      <td>66.66666666666666</td>\n",
       "      <td>5</td>\n",
       "    </tr>\n",
       "    <tr>\n",
       "      <th>22</th>\n",
       "      <td>45</td>\n",
       "      <td>65.21739130434783</td>\n",
       "      <td>50</td>\n",
       "    </tr>\n",
       "    <tr>\n",
       "      <th>21</th>\n",
       "      <td>44</td>\n",
       "      <td>63.76811594202898</td>\n",
       "      <td>79</td>\n",
       "    </tr>\n",
       "    <tr>\n",
       "      <th>20</th>\n",
       "      <td>43</td>\n",
       "      <td>62.31884057971014</td>\n",
       "      <td>29</td>\n",
       "    </tr>\n",
       "    <tr>\n",
       "      <th>19</th>\n",
       "      <td>42</td>\n",
       "      <td>60.86956521739131</td>\n",
       "      <td>27</td>\n",
       "    </tr>\n",
       "    <tr>\n",
       "      <th>18</th>\n",
       "      <td>41</td>\n",
       "      <td>59.42028985507246</td>\n",
       "      <td>29</td>\n",
       "    </tr>\n",
       "    <tr>\n",
       "      <th>17</th>\n",
       "      <td>40</td>\n",
       "      <td>57.971014492753625</td>\n",
       "      <td>230</td>\n",
       "    </tr>\n",
       "    <tr>\n",
       "      <th>16</th>\n",
       "      <td>39</td>\n",
       "      <td>56.52173913043478</td>\n",
       "      <td>285</td>\n",
       "    </tr>\n",
       "  </tbody>\n",
       "</table>\n",
       "</div>"
      ],
      "text/plain": [
       "   num_cols_missing    pct_cols_missing  num_rows\n",
       "25               48   69.56521739130434         3\n",
       "24               47   68.11594202898551         3\n",
       "23               46   66.66666666666666         5\n",
       "22               45   65.21739130434783        50\n",
       "21               44   63.76811594202898        79\n",
       "20               43   62.31884057971014        29\n",
       "19               42   60.86956521739131        27\n",
       "18               41   59.42028985507246        29\n",
       "17               40  57.971014492753625       230\n",
       "16               39   56.52173913043478       285"
      ]
     },
     "execution_count": 11,
     "metadata": {},
     "output_type": "execute_result"
    }
   ],
   "source": [
    "def nulls_by_row(df):\n",
    "    num_cols_missing = df.isnull().sum(axis=1)\n",
    "    pct_cols_missing = df.isnull().sum(axis=1)/df.shape[1]*100\n",
    "    rows_missing = pd.DataFrame({'num_cols_missing':num_cols_missing, 'pct_cols_missing':pct_cols_missing}).reset_index().groupby(['num_cols_missing','pct_cols_missing']).count().rename(index=str, columns={'index': 'num_rows'}).reset_index()\n",
    "    return rows_missing\n",
    "\n",
    "null_rows = nulls_by_row(df)\n",
    "null_rows.sort_values(by = 'pct_cols_missing', ascending = False, inplace = True)\n",
    "null_rows.head(10)"
   ]
  },
  {
   "cell_type": "markdown",
   "id": "2cd93656",
   "metadata": {},
   "source": [
    "Prep goals\n",
    "- Defining single units?\n",
    "- Remove properties that are likely something other than single unit\n",
    "    - Do not purely filter by unitcnt\n",
    "    - Goal is reducing single units that may be falsely removed as something else\n",
    "- Ideas:\n",
    "    - Keep:\n",
    "    - 260, residential general\n",
    "    - 261, single family residential\n",
    "    - 262, rural residence\n",
    "    - 279 inferred singel family residential"
   ]
  },
  {
   "cell_type": "code",
   "execution_count": 12,
   "id": "e39684d5",
   "metadata": {},
   "outputs": [
    {
     "data": {
      "text/plain": [
       "(77580, 69)"
      ]
     },
     "execution_count": 12,
     "metadata": {},
     "output_type": "execute_result"
    }
   ],
   "source": [
    "df.shape"
   ]
  },
  {
   "cell_type": "code",
   "execution_count": 13,
   "id": "1f3830e3",
   "metadata": {},
   "outputs": [
    {
     "data": {
      "text/plain": [
       "(52484, 69)"
      ]
     },
     "execution_count": 13,
     "metadata": {},
     "output_type": "execute_result"
    }
   ],
   "source": [
    "# using .isin to isolate only the type id\n",
    "\n",
    "df = df[df.propertylandusetypeid.isin([260, 261, 262, 279])]\n",
    "df.shape"
   ]
  },
  {
   "cell_type": "code",
   "execution_count": 14,
   "id": "b42b452c",
   "metadata": {},
   "outputs": [
    {
     "data": {
      "text/plain": [
       "1.0    33828\n",
       "2.0       30\n",
       "4.0        3\n",
       "3.0        1\n",
       "Name: unitcnt, dtype: int64"
      ]
     },
     "execution_count": 14,
     "metadata": {},
     "output_type": "execute_result"
    }
   ],
   "source": [
    "df.unitcnt.value_counts()"
   ]
  },
  {
   "cell_type": "code",
   "execution_count": 15,
   "id": "33f024fb",
   "metadata": {},
   "outputs": [
    {
     "data": {
      "text/plain": [
       "18622"
      ]
     },
     "execution_count": 15,
     "metadata": {},
     "output_type": "execute_result"
    }
   ],
   "source": [
    "df.unitcnt.isnull().sum()"
   ]
  },
  {
   "cell_type": "code",
   "execution_count": 16,
   "id": "c566b0dd",
   "metadata": {},
   "outputs": [
    {
     "data": {
      "text/plain": [
       "(52484, 69)"
      ]
     },
     "execution_count": 16,
     "metadata": {},
     "output_type": "execute_result"
    }
   ],
   "source": [
    "df.unitcnt = df.unitcnt.fillna(1.0)\n",
    "df.shape"
   ]
  },
  {
   "cell_type": "code",
   "execution_count": 17,
   "id": "8b144e7c",
   "metadata": {},
   "outputs": [
    {
     "data": {
      "text/plain": [
       "34"
      ]
     },
     "execution_count": 17,
     "metadata": {},
     "output_type": "execute_result"
    }
   ],
   "source": [
    "# how many unitcnts are not 1\n",
    "\n",
    "(df.unitcnt != 1.0).sum()"
   ]
  },
  {
   "cell_type": "code",
   "execution_count": 18,
   "id": "a6ad1325",
   "metadata": {},
   "outputs": [],
   "source": [
    "df = df[df.unitcnt == 1.0]"
   ]
  },
  {
   "cell_type": "code",
   "execution_count": 19,
   "id": "358e7ae6",
   "metadata": {},
   "outputs": [
    {
     "data": {
      "text/html": [
       "<div>\n",
       "<style scoped>\n",
       "    .dataframe tbody tr th:only-of-type {\n",
       "        vertical-align: middle;\n",
       "    }\n",
       "\n",
       "    .dataframe tbody tr th {\n",
       "        vertical-align: top;\n",
       "    }\n",
       "\n",
       "    .dataframe thead th {\n",
       "        text-align: right;\n",
       "    }\n",
       "</style>\n",
       "<table border=\"1\" class=\"dataframe\">\n",
       "  <thead>\n",
       "    <tr style=\"text-align: right;\">\n",
       "      <th></th>\n",
       "      <th>typeconstructiontypeid</th>\n",
       "      <th>storytypeid</th>\n",
       "      <th>propertylandusetypeid</th>\n",
       "      <th>heatingorsystemtypeid</th>\n",
       "      <th>buildingclasstypeid</th>\n",
       "      <th>architecturalstyletypeid</th>\n",
       "      <th>airconditioningtypeid</th>\n",
       "      <th>parcelid</th>\n",
       "      <th>id</th>\n",
       "      <th>basementsqft</th>\n",
       "      <th>...</th>\n",
       "      <th>id.1</th>\n",
       "      <th>logerror</th>\n",
       "      <th>transactiondate</th>\n",
       "      <th>airconditioningdesc</th>\n",
       "      <th>architecturalstyledesc</th>\n",
       "      <th>buildingclassdesc</th>\n",
       "      <th>heatingorsystemdesc</th>\n",
       "      <th>propertylandusedesc</th>\n",
       "      <th>storydesc</th>\n",
       "      <th>typeconstructiondesc</th>\n",
       "    </tr>\n",
       "  </thead>\n",
       "  <tbody>\n",
       "    <tr>\n",
       "      <th>0</th>\n",
       "      <td>NaN</td>\n",
       "      <td>NaN</td>\n",
       "      <td>261.0</td>\n",
       "      <td>NaN</td>\n",
       "      <td>NaN</td>\n",
       "      <td>NaN</td>\n",
       "      <td>NaN</td>\n",
       "      <td>14297519</td>\n",
       "      <td>1727539</td>\n",
       "      <td>NaN</td>\n",
       "      <td>...</td>\n",
       "      <td>0</td>\n",
       "      <td>0.025595</td>\n",
       "      <td>2017-01-01</td>\n",
       "      <td>NaN</td>\n",
       "      <td>NaN</td>\n",
       "      <td>NaN</td>\n",
       "      <td>NaN</td>\n",
       "      <td>Single Family Residential</td>\n",
       "      <td>NaN</td>\n",
       "      <td>NaN</td>\n",
       "    </tr>\n",
       "    <tr>\n",
       "      <th>1</th>\n",
       "      <td>NaN</td>\n",
       "      <td>NaN</td>\n",
       "      <td>261.0</td>\n",
       "      <td>NaN</td>\n",
       "      <td>NaN</td>\n",
       "      <td>NaN</td>\n",
       "      <td>NaN</td>\n",
       "      <td>17052889</td>\n",
       "      <td>1387261</td>\n",
       "      <td>NaN</td>\n",
       "      <td>...</td>\n",
       "      <td>1</td>\n",
       "      <td>0.055619</td>\n",
       "      <td>2017-01-01</td>\n",
       "      <td>NaN</td>\n",
       "      <td>NaN</td>\n",
       "      <td>NaN</td>\n",
       "      <td>NaN</td>\n",
       "      <td>Single Family Residential</td>\n",
       "      <td>NaN</td>\n",
       "      <td>NaN</td>\n",
       "    </tr>\n",
       "    <tr>\n",
       "      <th>2</th>\n",
       "      <td>NaN</td>\n",
       "      <td>NaN</td>\n",
       "      <td>261.0</td>\n",
       "      <td>NaN</td>\n",
       "      <td>NaN</td>\n",
       "      <td>NaN</td>\n",
       "      <td>NaN</td>\n",
       "      <td>14186244</td>\n",
       "      <td>11677</td>\n",
       "      <td>NaN</td>\n",
       "      <td>...</td>\n",
       "      <td>2</td>\n",
       "      <td>0.005383</td>\n",
       "      <td>2017-01-01</td>\n",
       "      <td>NaN</td>\n",
       "      <td>NaN</td>\n",
       "      <td>NaN</td>\n",
       "      <td>NaN</td>\n",
       "      <td>Single Family Residential</td>\n",
       "      <td>NaN</td>\n",
       "      <td>NaN</td>\n",
       "    </tr>\n",
       "    <tr>\n",
       "      <th>3</th>\n",
       "      <td>NaN</td>\n",
       "      <td>NaN</td>\n",
       "      <td>261.0</td>\n",
       "      <td>2.0</td>\n",
       "      <td>NaN</td>\n",
       "      <td>NaN</td>\n",
       "      <td>NaN</td>\n",
       "      <td>12177905</td>\n",
       "      <td>2288172</td>\n",
       "      <td>NaN</td>\n",
       "      <td>...</td>\n",
       "      <td>3</td>\n",
       "      <td>-0.103410</td>\n",
       "      <td>2017-01-01</td>\n",
       "      <td>NaN</td>\n",
       "      <td>NaN</td>\n",
       "      <td>NaN</td>\n",
       "      <td>Central</td>\n",
       "      <td>Single Family Residential</td>\n",
       "      <td>NaN</td>\n",
       "      <td>NaN</td>\n",
       "    </tr>\n",
       "    <tr>\n",
       "      <th>6</th>\n",
       "      <td>NaN</td>\n",
       "      <td>NaN</td>\n",
       "      <td>261.0</td>\n",
       "      <td>2.0</td>\n",
       "      <td>NaN</td>\n",
       "      <td>NaN</td>\n",
       "      <td>1.0</td>\n",
       "      <td>12095076</td>\n",
       "      <td>781532</td>\n",
       "      <td>NaN</td>\n",
       "      <td>...</td>\n",
       "      <td>6</td>\n",
       "      <td>-0.001011</td>\n",
       "      <td>2017-01-01</td>\n",
       "      <td>Central</td>\n",
       "      <td>NaN</td>\n",
       "      <td>NaN</td>\n",
       "      <td>Central</td>\n",
       "      <td>Single Family Residential</td>\n",
       "      <td>NaN</td>\n",
       "      <td>NaN</td>\n",
       "    </tr>\n",
       "  </tbody>\n",
       "</table>\n",
       "<p>5 rows × 69 columns</p>\n",
       "</div>"
      ],
      "text/plain": [
       "   typeconstructiontypeid  storytypeid  propertylandusetypeid  \\\n",
       "0                     NaN          NaN                  261.0   \n",
       "1                     NaN          NaN                  261.0   \n",
       "2                     NaN          NaN                  261.0   \n",
       "3                     NaN          NaN                  261.0   \n",
       "6                     NaN          NaN                  261.0   \n",
       "\n",
       "   heatingorsystemtypeid  buildingclasstypeid  architecturalstyletypeid  \\\n",
       "0                    NaN                  NaN                       NaN   \n",
       "1                    NaN                  NaN                       NaN   \n",
       "2                    NaN                  NaN                       NaN   \n",
       "3                    2.0                  NaN                       NaN   \n",
       "6                    2.0                  NaN                       NaN   \n",
       "\n",
       "   airconditioningtypeid  parcelid       id  basementsqft  ...  id.1  \\\n",
       "0                    NaN  14297519  1727539           NaN  ...     0   \n",
       "1                    NaN  17052889  1387261           NaN  ...     1   \n",
       "2                    NaN  14186244    11677           NaN  ...     2   \n",
       "3                    NaN  12177905  2288172           NaN  ...     3   \n",
       "6                    1.0  12095076   781532           NaN  ...     6   \n",
       "\n",
       "   logerror  transactiondate  airconditioningdesc  architecturalstyledesc  \\\n",
       "0  0.025595       2017-01-01                  NaN                     NaN   \n",
       "1  0.055619       2017-01-01                  NaN                     NaN   \n",
       "2  0.005383       2017-01-01                  NaN                     NaN   \n",
       "3 -0.103410       2017-01-01                  NaN                     NaN   \n",
       "6 -0.001011       2017-01-01              Central                     NaN   \n",
       "\n",
       "   buildingclassdesc  heatingorsystemdesc        propertylandusedesc  \\\n",
       "0                NaN                  NaN  Single Family Residential   \n",
       "1                NaN                  NaN  Single Family Residential   \n",
       "2                NaN                  NaN  Single Family Residential   \n",
       "3                NaN              Central  Single Family Residential   \n",
       "6                NaN              Central  Single Family Residential   \n",
       "\n",
       "   storydesc  typeconstructiondesc  \n",
       "0        NaN                   NaN  \n",
       "1        NaN                   NaN  \n",
       "2        NaN                   NaN  \n",
       "3        NaN                   NaN  \n",
       "6        NaN                   NaN  \n",
       "\n",
       "[5 rows x 69 columns]"
      ]
     },
     "execution_count": 19,
     "metadata": {},
     "output_type": "execute_result"
    }
   ],
   "source": [
    "df.head()"
   ]
  },
  {
   "cell_type": "code",
   "execution_count": 20,
   "id": "7d41e769",
   "metadata": {},
   "outputs": [
    {
     "data": {
      "text/plain": [
       "['typeconstructiontypeid',\n",
       " 'storytypeid',\n",
       " 'propertylandusetypeid',\n",
       " 'heatingorsystemtypeid',\n",
       " 'buildingclasstypeid',\n",
       " 'architecturalstyletypeid',\n",
       " 'airconditioningtypeid',\n",
       " 'parcelid',\n",
       " 'id',\n",
       " 'basementsqft',\n",
       " 'bathroomcnt',\n",
       " 'bedroomcnt',\n",
       " 'buildingqualitytypeid',\n",
       " 'calculatedbathnbr',\n",
       " 'decktypeid',\n",
       " 'finishedfloor1squarefeet',\n",
       " 'calculatedfinishedsquarefeet',\n",
       " 'finishedsquarefeet12',\n",
       " 'finishedsquarefeet13',\n",
       " 'finishedsquarefeet15',\n",
       " 'finishedsquarefeet50',\n",
       " 'finishedsquarefeet6',\n",
       " 'fips',\n",
       " 'fireplacecnt',\n",
       " 'fullbathcnt',\n",
       " 'garagecarcnt',\n",
       " 'garagetotalsqft',\n",
       " 'hashottuborspa',\n",
       " 'latitude',\n",
       " 'longitude',\n",
       " 'lotsizesquarefeet',\n",
       " 'poolcnt',\n",
       " 'poolsizesum',\n",
       " 'pooltypeid10',\n",
       " 'pooltypeid2',\n",
       " 'pooltypeid7',\n",
       " 'propertycountylandusecode',\n",
       " 'propertyzoningdesc',\n",
       " 'rawcensustractandblock',\n",
       " 'regionidcity',\n",
       " 'regionidcounty',\n",
       " 'regionidneighborhood',\n",
       " 'regionidzip',\n",
       " 'roomcnt',\n",
       " 'threequarterbathnbr',\n",
       " 'unitcnt',\n",
       " 'yardbuildingsqft17',\n",
       " 'yardbuildingsqft26',\n",
       " 'yearbuilt',\n",
       " 'numberofstories',\n",
       " 'fireplaceflag',\n",
       " 'structuretaxvaluedollarcnt',\n",
       " 'taxvaluedollarcnt',\n",
       " 'assessmentyear',\n",
       " 'landtaxvaluedollarcnt',\n",
       " 'taxamount',\n",
       " 'taxdelinquencyflag',\n",
       " 'taxdelinquencyyear',\n",
       " 'censustractandblock',\n",
       " 'id.1',\n",
       " 'logerror',\n",
       " 'transactiondate',\n",
       " 'airconditioningdesc',\n",
       " 'architecturalstyledesc',\n",
       " 'buildingclassdesc',\n",
       " 'heatingorsystemdesc',\n",
       " 'propertylandusedesc',\n",
       " 'storydesc',\n",
       " 'typeconstructiondesc']"
      ]
     },
     "execution_count": 20,
     "metadata": {},
     "output_type": "execute_result"
    }
   ],
   "source": [
    "df.columns.tolist()"
   ]
  },
  {
   "cell_type": "code",
   "execution_count": 21,
   "id": "50f1f2c4",
   "metadata": {},
   "outputs": [],
   "source": [
    "#df = df.drop(columns=[\"Unnamed:0\", \"id\", \"id.1\"])"
   ]
  },
  {
   "cell_type": "code",
   "execution_count": 22,
   "id": "db286f69",
   "metadata": {},
   "outputs": [],
   "source": [
    "def handle_missing_values(df, prop_required_column = .60, prop_required_row = .60):\n",
    "    threshold = int(round(prop_required_column * len(df.index),0))\n",
    "    df.dropna(axis=1, thresh = threshold, inplace = True)\n",
    "    threshold = int(round(prop_required_row * len(df.columns), 0))\n",
    "    df.dropna(axis = 0, thresh = threshold, inplace = True)\n",
    "    return df"
   ]
  },
  {
   "cell_type": "code",
   "execution_count": 23,
   "id": "2e36f54c",
   "metadata": {},
   "outputs": [
    {
     "data": {
      "text/plain": [
       "(52450, 35)"
      ]
     },
     "execution_count": 23,
     "metadata": {},
     "output_type": "execute_result"
    }
   ],
   "source": [
    "df = handle_missing_values(df)\n",
    "df.shape"
   ]
  },
  {
   "cell_type": "code",
   "execution_count": 24,
   "id": "e59f5c16",
   "metadata": {},
   "outputs": [],
   "source": [
    "df = df.drop(columns = ['propertylandusetypeid', 'heatingorsystemtypeid'])"
   ]
  },
  {
   "cell_type": "code",
   "execution_count": 25,
   "id": "164f0b67",
   "metadata": {},
   "outputs": [
    {
     "data": {
      "text/plain": [
       "buildingqualitytypeid           18726\n",
       "propertyzoningdesc              18589\n",
       "heatingorsystemdesc             18524\n",
       "regionidcity                     1037\n",
       "lotsizesquarefeet                 371\n",
       "finishedsquarefeet12              276\n",
       "calculatedbathnbr                 166\n",
       "fullbathcnt                       166\n",
       "yearbuilt                         146\n",
       "censustractandblock               121\n",
       "calculatedfinishedsquarefeet      112\n",
       "structuretaxvaluedollarcnt         81\n",
       "regionidzip                        26\n",
       "taxamount                           4\n",
       "landtaxvaluedollarcnt               1\n",
       "taxvaluedollarcnt                   1\n",
       "logerror                            0\n",
       "transactiondate                     0\n",
       "assessmentyear                      0\n",
       "id.1                                0\n",
       "parcelid                            0\n",
       "unitcnt                             0\n",
       "roomcnt                             0\n",
       "regionidcounty                      0\n",
       "id                                  0\n",
       "rawcensustractandblock              0\n",
       "propertycountylandusecode           0\n",
       "longitude                           0\n",
       "latitude                            0\n",
       "fips                                0\n",
       "bedroomcnt                          0\n",
       "bathroomcnt                         0\n",
       "propertylandusedesc                 0\n",
       "dtype: int64"
      ]
     },
     "execution_count": 25,
     "metadata": {},
     "output_type": "execute_result"
    }
   ],
   "source": [
    "df.isnull().sum().sort_values(ascending =False)"
   ]
  },
  {
   "cell_type": "code",
   "execution_count": 26,
   "id": "aa464b0c",
   "metadata": {},
   "outputs": [],
   "source": [
    "# dropping propertyzoneingdesc since we are filtering for single unit residential homes"
   ]
  },
  {
   "cell_type": "code",
   "execution_count": 27,
   "id": "1078783c",
   "metadata": {},
   "outputs": [
    {
     "data": {
      "text/plain": [
       "18524"
      ]
     },
     "execution_count": 27,
     "metadata": {},
     "output_type": "execute_result"
    }
   ],
   "source": [
    "df.heatingorsystemdesc.isnull().sum()"
   ]
  },
  {
   "cell_type": "code",
   "execution_count": 28,
   "id": "65daf0c2",
   "metadata": {},
   "outputs": [
    {
     "data": {
      "text/plain": [
       "Central       20736\n",
       "NaN           18524\n",
       "Floor/Wall    12556\n",
       "Forced air      517\n",
       "Solar            85\n",
       "None             16\n",
       "Baseboard         7\n",
       "Radiant           6\n",
       "Gravity           2\n",
       "Yes               1\n",
       "Name: heatingorsystemdesc, dtype: int64"
      ]
     },
     "execution_count": 28,
     "metadata": {},
     "output_type": "execute_result"
    }
   ],
   "source": [
    "df.heatingorsystemdesc.value_counts(dropna = False)"
   ]
  },
  {
   "cell_type": "code",
   "execution_count": 29,
   "id": "1d2c2167",
   "metadata": {},
   "outputs": [],
   "source": [
    "# most properties in southern california don't have AC\n",
    "df.heatingorsystemdesc = df.heatingorsystemdesc.fillna('None')"
   ]
  },
  {
   "cell_type": "code",
   "execution_count": 30,
   "id": "0ecdd5c5",
   "metadata": {},
   "outputs": [],
   "source": [
    "df = df.drop(columns = ['propertyzoningdesc'])"
   ]
  },
  {
   "cell_type": "code",
   "execution_count": 31,
   "id": "2fc115e3",
   "metadata": {},
   "outputs": [
    {
     "data": {
      "text/plain": [
       "0.996835081029552"
      ]
     },
     "execution_count": 31,
     "metadata": {},
     "output_type": "execute_result"
    }
   ],
   "source": [
    "# these two columns are pretty much the same\n",
    "(df.calculatedbathnbr == df.bathroomcnt).sum()/ len(df)"
   ]
  },
  {
   "cell_type": "code",
   "execution_count": 32,
   "id": "f3eb3e92",
   "metadata": {},
   "outputs": [],
   "source": [
    "df = df.drop(columns = ['calculatedbathnbr'])"
   ]
  },
  {
   "cell_type": "code",
   "execution_count": 33,
   "id": "bb372c89",
   "metadata": {},
   "outputs": [
    {
     "data": {
      "text/plain": [
       "buildingqualitytypeid           18726\n",
       "regionidcity                     1037\n",
       "lotsizesquarefeet                 371\n",
       "finishedsquarefeet12              276\n",
       "fullbathcnt                       166\n",
       "yearbuilt                         146\n",
       "censustractandblock               121\n",
       "calculatedfinishedsquarefeet      112\n",
       "structuretaxvaluedollarcnt         81\n",
       "regionidzip                        26\n",
       "dtype: int64"
      ]
     },
     "execution_count": 33,
     "metadata": {},
     "output_type": "execute_result"
    }
   ],
   "source": [
    "df.isna().sum().sort_values(ascending=False).head(10)"
   ]
  },
  {
   "cell_type": "markdown",
   "id": "0ff02d26",
   "metadata": {},
   "source": [
    "### Data is ready for split\n",
    "- split the df into train/validate/test\n",
    "- impute values from train, then apply them to validate and test sets\n",
    "- keep our out of sample datasets of out of sample"
   ]
  },
  {
   "cell_type": "code",
   "execution_count": 34,
   "id": "c96c7500",
   "metadata": {},
   "outputs": [],
   "source": [
    "from sklearn.model_selection import train_test_split\n",
    "\n",
    "train_and_validate, test = train_test_split(df, train_size = .8, random_state = 123)\n",
    "train, validate = train_test_split(train_and_validate, random_state = 123)"
   ]
  },
  {
   "cell_type": "code",
   "execution_count": 35,
   "id": "54594f9f",
   "metadata": {},
   "outputs": [
    {
     "name": "stderr",
     "output_type": "stream",
     "text": [
      "/usr/local/anaconda3/lib/python3.9/site-packages/pandas/core/generic.py:6392: SettingWithCopyWarning: \n",
      "A value is trying to be set on a copy of a slice from a DataFrame\n",
      "\n",
      "See the caveats in the documentation: https://pandas.pydata.org/pandas-docs/stable/user_guide/indexing.html#returning-a-view-versus-a-copy\n",
      "  return self._update_inplace(result)\n"
     ]
    }
   ],
   "source": [
    "# categorical/discrete columns to use mode to replace nulls\n",
    "\n",
    "cols = [\n",
    "    'buildingqualitytypeid',\n",
    "    'regionidzip',\n",
    "    'yearbuilt',\n",
    "    'regionidcity',\n",
    "    'censustractandblock'\n",
    "]\n",
    "\n",
    "for col in cols:\n",
    "    mode = int(train[col].mode())\n",
    "    train[col].fillna(value=mode, inplace=True)\n",
    "    validate[col].fillna(value =mode, inplace = True)\n",
    "    test[col].fillna(value=mode, inplace = True)"
   ]
  },
  {
   "cell_type": "code",
   "execution_count": 36,
   "id": "823e7fb4",
   "metadata": {},
   "outputs": [
    {
     "data": {
      "text/plain": [
       "lotsizesquarefeet               211\n",
       "finishedsquarefeet12            164\n",
       "fullbathcnt                     107\n",
       "calculatedfinishedsquarefeet     73\n",
       "structuretaxvaluedollarcnt       44\n",
       "taxamount                         3\n",
       "taxvaluedollarcnt                 0\n",
       "assessmentyear                    0\n",
       "landtaxvaluedollarcnt             0\n",
       "parcelid                          0\n",
       "dtype: int64"
      ]
     },
     "execution_count": 36,
     "metadata": {},
     "output_type": "execute_result"
    }
   ],
   "source": [
    "train.isnull().sum().sort_values(ascending= False).head(10)"
   ]
  },
  {
   "cell_type": "code",
   "execution_count": 37,
   "id": "1b6831c0",
   "metadata": {},
   "outputs": [],
   "source": [
    "# continuous valued columns remain, median will be used to replace nulls\n",
    "\n",
    "cols = [\n",
    "    'buildingqualitytypeid',\n",
    "    'taxamount',\n",
    "    'taxvaluedollarcnt',\n",
    "    'landtaxvaluedollarcnt',\n",
    "    'structuretaxvaluedollarcnt',\n",
    "    'finishedsquarefeet12',\n",
    "    'calculatedfinishedsquarefeet',\n",
    "    'fullbathcnt',\n",
    "    'lotsizesquarefeet'\n",
    "]\n",
    "\n",
    "for col in cols:\n",
    "    median = train[col].median()\n",
    "    train[col].fillna(median, inplace = True)\n",
    "    validate[col].fillna(median, inplace = True)\n",
    "    test[col].fillna(median, inplace = True)"
   ]
  },
  {
   "cell_type": "code",
   "execution_count": 38,
   "id": "d28650c9",
   "metadata": {},
   "outputs": [
    {
     "data": {
      "text/plain": [
       "parcelid                        0\n",
       "regionidzip                     0\n",
       "heatingorsystemdesc             0\n",
       "transactiondate                 0\n",
       "logerror                        0\n",
       "id.1                            0\n",
       "censustractandblock             0\n",
       "taxamount                       0\n",
       "landtaxvaluedollarcnt           0\n",
       "assessmentyear                  0\n",
       "taxvaluedollarcnt               0\n",
       "structuretaxvaluedollarcnt      0\n",
       "yearbuilt                       0\n",
       "unitcnt                         0\n",
       "roomcnt                         0\n",
       "regionidcounty                  0\n",
       "id                              0\n",
       "regionidcity                    0\n",
       "rawcensustractandblock          0\n",
       "propertycountylandusecode       0\n",
       "lotsizesquarefeet               0\n",
       "longitude                       0\n",
       "latitude                        0\n",
       "fullbathcnt                     0\n",
       "fips                            0\n",
       "finishedsquarefeet12            0\n",
       "calculatedfinishedsquarefeet    0\n",
       "buildingqualitytypeid           0\n",
       "bedroomcnt                      0\n",
       "bathroomcnt                     0\n",
       "propertylandusedesc             0\n",
       "dtype: int64"
      ]
     },
     "execution_count": 38,
     "metadata": {},
     "output_type": "execute_result"
    }
   ],
   "source": [
    "train.isnull().sum().sort_values(ascending= False)"
   ]
  },
  {
   "cell_type": "code",
   "execution_count": 39,
   "id": "c67154b8",
   "metadata": {},
   "outputs": [
    {
     "data": {
      "text/plain": [
       "((31470, 31), (10490, 31), (10490, 31))"
      ]
     },
     "execution_count": 39,
     "metadata": {},
     "output_type": "execute_result"
    }
   ],
   "source": [
    "train.shape, validate.shape, test.shape"
   ]
  },
  {
   "cell_type": "code",
   "execution_count": null,
   "id": "9db19305",
   "metadata": {},
   "outputs": [],
   "source": []
  },
  {
   "cell_type": "code",
   "execution_count": 40,
   "id": "c9ae32d8",
   "metadata": {},
   "outputs": [],
   "source": [
    "# write the output to disc and move forward\n",
    "\n",
    "train.to_csv('zillow_train.csv')\n",
    "validate.to_csv('zillow_valiate.csv')\n",
    "test.to_csv('zillow_test.csv')"
   ]
  },
  {
   "cell_type": "code",
   "execution_count": null,
   "id": "5ff7b5e9",
   "metadata": {},
   "outputs": [],
   "source": []
  }
 ],
 "metadata": {
  "kernelspec": {
   "display_name": "Python 3 (ipykernel)",
   "language": "python",
   "name": "python3"
  },
  "language_info": {
   "codemirror_mode": {
    "name": "ipython",
    "version": 3
   },
   "file_extension": ".py",
   "mimetype": "text/x-python",
   "name": "python",
   "nbconvert_exporter": "python",
   "pygments_lexer": "ipython3",
   "version": "3.9.7"
  }
 },
 "nbformat": 4,
 "nbformat_minor": 5
}
